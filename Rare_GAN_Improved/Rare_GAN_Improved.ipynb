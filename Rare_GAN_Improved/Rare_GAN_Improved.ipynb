{
 "cells": [
  {
   "cell_type": "code",
   "execution_count": 1,
   "id": "fb840df5",
   "metadata": {},
   "outputs": [],
   "source": [
    "# 1.1) Standard imports\n",
    "import os\n",
    "import numpy as np\n",
    "import matplotlib.pyplot as plt\n",
    "from pathlib import Path\n",
    "\n",
    "# 1.2) For reading PTB-XL .mat and header files\n",
    "from scipy.io import loadmat\n",
    "from scipy.signal import resample, find_peaks\n",
    "\n",
    "# 1.3) For training\n",
    "import tensorflow as tf\n",
    "\n",
    "# 1.4) Create output directories if not exist\n",
    "os.makedirs(\"arrhythmia_gan_outputs\", exist_ok=True)\n"
   ]
  },
  {
   "cell_type": "code",
   "execution_count": 2,
   "id": "a79b7b38",
   "metadata": {},
   "outputs": [
    {
     "name": "stdout",
     "output_type": "stream",
     "text": [
      "'ptbxl_unzipped' already exists, skipping unzip.\n"
     ]
    }
   ],
   "source": [
    "# 1.5) Unzip PTB-XL if needed\n",
    "zip_path    = Path(\"archive.zip\")\n",
    "extract_dir = Path(\"ptbxl_unzipped\")\n",
    "\n",
    "if not extract_dir.exists():\n",
    "    import zipfile\n",
    "    with zipfile.ZipFile(zip_path, 'r') as zf:\n",
    "        zf.extractall(extract_dir)\n",
    "    print(f\"Unzipped '{zip_path}' → '{extract_dir}/'\")\n",
    "else:\n",
    "    print(f\"'{extract_dir}' already exists, skipping unzip.\")\n"
   ]
  },
  {
   "cell_type": "code",
   "execution_count": 3,
   "id": "f9ccd35e",
   "metadata": {},
   "outputs": [
    {
     "name": "stdout",
     "output_type": "stream",
     "text": [
      "Loaded and downsampled all ECGs → shape = (21837, 1000, 12)\n"
     ]
    }
   ],
   "source": [
    "# 2.1) Helper: load .mat and corresponding .hea (not strictly needed yet)\n",
    "def load_ptbxl_mat(mat_filename):\n",
    "    \"\"\"\n",
    "    Loads a PTB-XL .mat file and returns a 12×orig_length NumPy array.\n",
    "    \"\"\"\n",
    "    data = loadmat(mat_filename)\n",
    "    ecg = np.asarray(data['val'], dtype=np.float32)  # shape = (12, orig_length)\n",
    "    return ecg\n",
    "\n",
    "# 2.2) Helper: downsample a single 12×orig_length ECG → 1000×12\n",
    "def downsample_ecg(ecg_12xN, target_len=1000):\n",
    "    \"\"\"\n",
    "    ecg_12xN: shape (12, original_length)\n",
    "    Returns: shape (target_len, 12), each lead downsampled via Fourier-based resample.\n",
    "    \"\"\"\n",
    "    n_leads, orig_len = ecg_12xN.shape\n",
    "    out = np.zeros((target_len, n_leads), dtype=np.float32)\n",
    "    for i in range(n_leads):\n",
    "        out[:, i] = resample(ecg_12xN[i], target_len)\n",
    "    return out\n",
    "\n",
    "# 2.3) Loop over every .mat in WFDB folder\n",
    "wfdb_folder = \"ptbxl_unzipped/WFDB\"\n",
    "mat_files    = sorted([f for f in os.listdir(wfdb_folder) if f.endswith(\".mat\")])\n",
    "\n",
    "ECGs_all = []\n",
    "hea_files = []\n",
    "\n",
    "for fname in mat_files:\n",
    "    mat_path = os.path.join(wfdb_folder, fname)\n",
    "    # Load raw ECG (12 × orig_length)\n",
    "    ecg_raw = load_ptbxl_mat(mat_path)               # shape (12, orig_len)\n",
    "    # Downsample → (1000, 12)\n",
    "    ecg_ds  = downsample_ecg(ecg_raw, target_len=1000)\n",
    "    # Convert µV → mV\n",
    "    ecg_ds /= 1000.0\n",
    "    ECGs_all.append(ecg_ds)\n",
    "\n",
    "    # Also store header path for metadata\n",
    "    hea_path = mat_path.replace(\".mat\", \".hea\")\n",
    "    hea_files.append(hea_path)\n",
    "\n",
    "ECGs_all = np.stack(ECGs_all, axis=0)  # shape = (N_records, 1000, 12)\n",
    "print(f\"Loaded and downsampled all ECGs → shape = {ECGs_all.shape}\")\n"
   ]
  },
  {
   "cell_type": "code",
   "execution_count": 4,
   "id": "670af480",
   "metadata": {},
   "outputs": [
    {
     "name": "stdout",
     "output_type": "stream",
     "text": [
      "Found 19811 arrhythmic records out of 21837 total.\n",
      "Arrhythmia‐only ECG array shape  = (19811, 1000, 12)\n"
     ]
    }
   ],
   "source": [
    "# ─── Step 3: Filter for Arrhythmic (“Rare”) ECGs using SNOMED codes ───────────\n",
    "\n",
    "import os\n",
    "\n",
    "# 3.1) Define the set of SNOMED codes in PTB-XL that correspond to arrhythmias.\n",
    "#     (This list is not exhaustive, but contains the most common arrhythmias in PTB-XL.)\n",
    "#\n",
    "#     You can expand this set with any other SNOMED codes you care about.\n",
    "arrhythmia_snomed = {\n",
    "    \"427172004\",  # AFIB: Atrial fibrillation\n",
    "    \"713426002\",  # PVC: Premature ventricular contractions\n",
    "    \"713417000\",  # SVT: Supraventricular tachycardia\n",
    "    \"713426001\",  # AFL: Atrial flutter\n",
    "    \"164889003\",  # MI – not an arrhythmia, but often included (optional)\n",
    "    \"164909002\",  # RBBB: Right bundle branch block\n",
    "    \"164909005\",  # LBBB: Left bundle branch block\n",
    "    \"426783006\",  # CHB: Complete AV block\n",
    "    \"426627000\",  # I-AVB: First-degree AV block\n",
    "    # …you can add more SNOMED codes here if you want other rhythms…\n",
    "}\n",
    "\n",
    "# 3.2) Helper to parse the \"#Dx:\" line into a list of SNOMED code strings\n",
    "def parse_header_for_snomed(header_lines):\n",
    "    \"\"\"\n",
    "    Given the lines of a .hea file (a list of strings),\n",
    "    finds the line beginning with '#Dx:' and returns a list of SNOMED code strings.\n",
    "    \"\"\"\n",
    "    for line in header_lines:\n",
    "        if line.startswith(\"#Dx:\"):\n",
    "            # Remove '#Dx:', strip whitespace, split on comma\n",
    "            codes = [token.strip() for token in line.replace(\"#Dx:\", \"\").strip().split(\",\")]\n",
    "            return codes\n",
    "    return []\n",
    "\n",
    "\n",
    "# 3.3) Re‐load (or re‐use) the list of header paths (hea_files) and ECG array (ECGs_all).\n",
    "#     In our previous step 2, we collected both arrays: `ECGs_all` and `hea_files`.\n",
    "#\n",
    "#     If you haven’t stored `hea_files` already, re‐create it like this:\n",
    "wfdb_folder = \"ptbxl_unzipped/WFDB\"\n",
    "mat_files    = sorted([f for f in os.listdir(wfdb_folder) if f.endswith(\".mat\")])\n",
    "hea_files    = [os.path.join(wfdb_folder, fname.replace(\".mat\", \".hea\")) for fname in mat_files]\n",
    "\n",
    "# 3.4) Now loop over each header file, parse its SNOMED codes, and keep only those whose\n",
    "#     code list intersects our `arrhythmia_snomed` set.\n",
    "\n",
    "arr_indices = []\n",
    "for idx, hea_path in enumerate(hea_files):\n",
    "    with open(hea_path, 'r') as f:\n",
    "        header_lines = f.readlines()\n",
    "    snomed_codes = parse_header_for_snomed(header_lines)\n",
    "    # Check if any of the codes in this record belongs to arrhythmia_snomed\n",
    "    if any(code in arrhythmia_snomed for code in snomed_codes):\n",
    "        arr_indices.append(idx)\n",
    "\n",
    "print(f\"Found {len(arr_indices)} arrhythmic records out of {len(ECGs_all)} total.\")\n",
    "\n",
    "# 3.5) Extract those arrhythmic ECGs into ECGs_arr\n",
    "ECGs_arr = ECGs_all[arr_indices]  # shape = (#arrhythmias, 1000, 12)\n",
    "print(f\"Arrhythmia‐only ECG array shape  = {ECGs_arr.shape}\")\n"
   ]
  },
  {
   "cell_type": "code",
   "execution_count": 5,
   "id": "c01a528e",
   "metadata": {},
   "outputs": [
    {
     "name": "stdout",
     "output_type": "stream",
     "text": [
      "Arrhythmia train shape = (15848, 1000, 12)\n",
      "Arrhythmia test  shape = (3963, 1000, 12)\n"
     ]
    }
   ],
   "source": [
    "from sklearn.model_selection import train_test_split\n",
    "\n",
    "# 4.1) Split EC_Gs_arr into train vs. test (80% train, 20% test)\n",
    "ECGs_arr_train, ECGs_arr_test = train_test_split(\n",
    "    ECGs_arr,\n",
    "    test_size=0.2,\n",
    "    random_state=42,\n",
    "    shuffle=True\n",
    ")\n",
    "\n",
    "print(f\"Arrhythmia train shape = {ECGs_arr_train.shape}\")\n",
    "print(f\"Arrhythmia test  shape = {ECGs_arr_test.shape}\")\n"
   ]
  },
  {
   "cell_type": "code",
   "execution_count": 6,
   "id": "46707a1e",
   "metadata": {},
   "outputs": [
    {
     "data": {
      "text/html": [
       "<pre style=\"white-space:pre;overflow-x:auto;line-height:normal;font-family:Menlo,'DejaVu Sans Mono',consolas,'Courier New',monospace\"><span style=\"font-weight: bold\">Model: \"Discriminator\"</span>\n",
       "</pre>\n"
      ],
      "text/plain": [
       "\u001b[1mModel: \"Discriminator\"\u001b[0m\n"
      ]
     },
     "metadata": {},
     "output_type": "display_data"
    },
    {
     "data": {
      "text/html": [
       "<pre style=\"white-space:pre;overflow-x:auto;line-height:normal;font-family:Menlo,'DejaVu Sans Mono',consolas,'Courier New',monospace\">┏━━━━━━━━━━━━━━━━━━━━━┳━━━━━━━━━━━━━━━━━━━┳━━━━━━━━━━━━┳━━━━━━━━━━━━━━━━━━━┓\n",
       "┃<span style=\"font-weight: bold\"> Layer (type)        </span>┃<span style=\"font-weight: bold\"> Output Shape      </span>┃<span style=\"font-weight: bold\">    Param # </span>┃<span style=\"font-weight: bold\"> Connected to      </span>┃\n",
       "┡━━━━━━━━━━━━━━━━━━━━━╇━━━━━━━━━━━━━━━━━━━╇━━━━━━━━━━━━╇━━━━━━━━━━━━━━━━━━━┩\n",
       "│ input_layer         │ (<span style=\"color: #00d7ff; text-decoration-color: #00d7ff\">None</span>, <span style=\"color: #00af00; text-decoration-color: #00af00\">1000</span>, <span style=\"color: #00af00; text-decoration-color: #00af00\">12</span>)  │          <span style=\"color: #00af00; text-decoration-color: #00af00\">0</span> │ -                 │\n",
       "│ (<span style=\"color: #0087ff; text-decoration-color: #0087ff\">InputLayer</span>)        │                   │            │                   │\n",
       "├─────────────────────┼───────────────────┼────────────┼───────────────────┤\n",
       "│ max_pooling1d       │ (<span style=\"color: #00d7ff; text-decoration-color: #00d7ff\">None</span>, <span style=\"color: #00af00; text-decoration-color: #00af00\">1000</span>, <span style=\"color: #00af00; text-decoration-color: #00af00\">12</span>)  │          <span style=\"color: #00af00; text-decoration-color: #00af00\">0</span> │ input_layer[<span style=\"color: #00af00; text-decoration-color: #00af00\">0</span>][<span style=\"color: #00af00; text-decoration-color: #00af00\">0</span>] │\n",
       "│ (<span style=\"color: #0087ff; text-decoration-color: #0087ff\">MaxPooling1D</span>)      │                   │            │                   │\n",
       "├─────────────────────┼───────────────────┼────────────┼───────────────────┤\n",
       "│ conv1d (<span style=\"color: #0087ff; text-decoration-color: #0087ff\">Conv1D</span>)     │ (<span style=\"color: #00d7ff; text-decoration-color: #00d7ff\">None</span>, <span style=\"color: #00af00; text-decoration-color: #00af00\">1000</span>, <span style=\"color: #00af00; text-decoration-color: #00af00\">32</span>)  │        <span style=\"color: #00af00; text-decoration-color: #00af00\">416</span> │ input_layer[<span style=\"color: #00af00; text-decoration-color: #00af00\">0</span>][<span style=\"color: #00af00; text-decoration-color: #00af00\">0</span>] │\n",
       "├─────────────────────┼───────────────────┼────────────┼───────────────────┤\n",
       "│ conv1d_1 (<span style=\"color: #0087ff; text-decoration-color: #0087ff\">Conv1D</span>)   │ (<span style=\"color: #00d7ff; text-decoration-color: #00d7ff\">None</span>, <span style=\"color: #00af00; text-decoration-color: #00af00\">1000</span>, <span style=\"color: #00af00; text-decoration-color: #00af00\">32</span>)  │      <span style=\"color: #00af00; text-decoration-color: #00af00\">1,184</span> │ input_layer[<span style=\"color: #00af00; text-decoration-color: #00af00\">0</span>][<span style=\"color: #00af00; text-decoration-color: #00af00\">0</span>] │\n",
       "├─────────────────────┼───────────────────┼────────────┼───────────────────┤\n",
       "│ conv1d_2 (<span style=\"color: #0087ff; text-decoration-color: #0087ff\">Conv1D</span>)   │ (<span style=\"color: #00d7ff; text-decoration-color: #00d7ff\">None</span>, <span style=\"color: #00af00; text-decoration-color: #00af00\">1000</span>, <span style=\"color: #00af00; text-decoration-color: #00af00\">32</span>)  │      <span style=\"color: #00af00; text-decoration-color: #00af00\">1,952</span> │ input_layer[<span style=\"color: #00af00; text-decoration-color: #00af00\">0</span>][<span style=\"color: #00af00; text-decoration-color: #00af00\">0</span>] │\n",
       "├─────────────────────┼───────────────────┼────────────┼───────────────────┤\n",
       "│ conv1d_3 (<span style=\"color: #0087ff; text-decoration-color: #0087ff\">Conv1D</span>)   │ (<span style=\"color: #00d7ff; text-decoration-color: #00d7ff\">None</span>, <span style=\"color: #00af00; text-decoration-color: #00af00\">1000</span>, <span style=\"color: #00af00; text-decoration-color: #00af00\">32</span>)  │        <span style=\"color: #00af00; text-decoration-color: #00af00\">416</span> │ max_pooling1d[<span style=\"color: #00af00; text-decoration-color: #00af00\">0</span>]… │\n",
       "├─────────────────────┼───────────────────┼────────────┼───────────────────┤\n",
       "│ concatenate         │ (<span style=\"color: #00d7ff; text-decoration-color: #00d7ff\">None</span>, <span style=\"color: #00af00; text-decoration-color: #00af00\">1000</span>, <span style=\"color: #00af00; text-decoration-color: #00af00\">128</span>) │          <span style=\"color: #00af00; text-decoration-color: #00af00\">0</span> │ conv1d[<span style=\"color: #00af00; text-decoration-color: #00af00\">0</span>][<span style=\"color: #00af00; text-decoration-color: #00af00\">0</span>],     │\n",
       "│ (<span style=\"color: #0087ff; text-decoration-color: #0087ff\">Concatenate</span>)       │                   │            │ conv1d_1[<span style=\"color: #00af00; text-decoration-color: #00af00\">0</span>][<span style=\"color: #00af00; text-decoration-color: #00af00\">0</span>],   │\n",
       "│                     │                   │            │ conv1d_2[<span style=\"color: #00af00; text-decoration-color: #00af00\">0</span>][<span style=\"color: #00af00; text-decoration-color: #00af00\">0</span>],   │\n",
       "│                     │                   │            │ conv1d_3[<span style=\"color: #00af00; text-decoration-color: #00af00\">0</span>][<span style=\"color: #00af00; text-decoration-color: #00af00\">0</span>]    │\n",
       "├─────────────────────┼───────────────────┼────────────┼───────────────────┤\n",
       "│ conv1d_4 (<span style=\"color: #0087ff; text-decoration-color: #0087ff\">Conv1D</span>)   │ (<span style=\"color: #00d7ff; text-decoration-color: #00d7ff\">None</span>, <span style=\"color: #00af00; text-decoration-color: #00af00\">1000</span>, <span style=\"color: #00af00; text-decoration-color: #00af00\">128</span>) │      <span style=\"color: #00af00; text-decoration-color: #00af00\">1,664</span> │ input_layer[<span style=\"color: #00af00; text-decoration-color: #00af00\">0</span>][<span style=\"color: #00af00; text-decoration-color: #00af00\">0</span>] │\n",
       "├─────────────────────┼───────────────────┼────────────┼───────────────────┤\n",
       "│ add (<span style=\"color: #0087ff; text-decoration-color: #0087ff\">Add</span>)           │ (<span style=\"color: #00d7ff; text-decoration-color: #00d7ff\">None</span>, <span style=\"color: #00af00; text-decoration-color: #00af00\">1000</span>, <span style=\"color: #00af00; text-decoration-color: #00af00\">128</span>) │          <span style=\"color: #00af00; text-decoration-color: #00af00\">0</span> │ concatenate[<span style=\"color: #00af00; text-decoration-color: #00af00\">0</span>][<span style=\"color: #00af00; text-decoration-color: #00af00\">0</span>… │\n",
       "│                     │                   │            │ conv1d_4[<span style=\"color: #00af00; text-decoration-color: #00af00\">0</span>][<span style=\"color: #00af00; text-decoration-color: #00af00\">0</span>]    │\n",
       "├─────────────────────┼───────────────────┼────────────┼───────────────────┤\n",
       "│ max_pooling1d_1     │ (<span style=\"color: #00d7ff; text-decoration-color: #00d7ff\">None</span>, <span style=\"color: #00af00; text-decoration-color: #00af00\">1000</span>, <span style=\"color: #00af00; text-decoration-color: #00af00\">128</span>) │          <span style=\"color: #00af00; text-decoration-color: #00af00\">0</span> │ add[<span style=\"color: #00af00; text-decoration-color: #00af00\">0</span>][<span style=\"color: #00af00; text-decoration-color: #00af00\">0</span>]         │\n",
       "│ (<span style=\"color: #0087ff; text-decoration-color: #0087ff\">MaxPooling1D</span>)      │                   │            │                   │\n",
       "├─────────────────────┼───────────────────┼────────────┼───────────────────┤\n",
       "│ conv1d_5 (<span style=\"color: #0087ff; text-decoration-color: #0087ff\">Conv1D</span>)   │ (<span style=\"color: #00d7ff; text-decoration-color: #00d7ff\">None</span>, <span style=\"color: #00af00; text-decoration-color: #00af00\">1000</span>, <span style=\"color: #00af00; text-decoration-color: #00af00\">32</span>)  │      <span style=\"color: #00af00; text-decoration-color: #00af00\">4,128</span> │ add[<span style=\"color: #00af00; text-decoration-color: #00af00\">0</span>][<span style=\"color: #00af00; text-decoration-color: #00af00\">0</span>]         │\n",
       "├─────────────────────┼───────────────────┼────────────┼───────────────────┤\n",
       "│ conv1d_6 (<span style=\"color: #0087ff; text-decoration-color: #0087ff\">Conv1D</span>)   │ (<span style=\"color: #00d7ff; text-decoration-color: #00d7ff\">None</span>, <span style=\"color: #00af00; text-decoration-color: #00af00\">1000</span>, <span style=\"color: #00af00; text-decoration-color: #00af00\">32</span>)  │     <span style=\"color: #00af00; text-decoration-color: #00af00\">12,320</span> │ add[<span style=\"color: #00af00; text-decoration-color: #00af00\">0</span>][<span style=\"color: #00af00; text-decoration-color: #00af00\">0</span>]         │\n",
       "├─────────────────────┼───────────────────┼────────────┼───────────────────┤\n",
       "│ conv1d_7 (<span style=\"color: #0087ff; text-decoration-color: #0087ff\">Conv1D</span>)   │ (<span style=\"color: #00d7ff; text-decoration-color: #00d7ff\">None</span>, <span style=\"color: #00af00; text-decoration-color: #00af00\">1000</span>, <span style=\"color: #00af00; text-decoration-color: #00af00\">32</span>)  │     <span style=\"color: #00af00; text-decoration-color: #00af00\">20,512</span> │ add[<span style=\"color: #00af00; text-decoration-color: #00af00\">0</span>][<span style=\"color: #00af00; text-decoration-color: #00af00\">0</span>]         │\n",
       "├─────────────────────┼───────────────────┼────────────┼───────────────────┤\n",
       "│ conv1d_8 (<span style=\"color: #0087ff; text-decoration-color: #0087ff\">Conv1D</span>)   │ (<span style=\"color: #00d7ff; text-decoration-color: #00d7ff\">None</span>, <span style=\"color: #00af00; text-decoration-color: #00af00\">1000</span>, <span style=\"color: #00af00; text-decoration-color: #00af00\">32</span>)  │      <span style=\"color: #00af00; text-decoration-color: #00af00\">4,128</span> │ max_pooling1d_1[<span style=\"color: #00af00; text-decoration-color: #00af00\">…</span> │\n",
       "├─────────────────────┼───────────────────┼────────────┼───────────────────┤\n",
       "│ concatenate_1       │ (<span style=\"color: #00d7ff; text-decoration-color: #00d7ff\">None</span>, <span style=\"color: #00af00; text-decoration-color: #00af00\">1000</span>, <span style=\"color: #00af00; text-decoration-color: #00af00\">128</span>) │          <span style=\"color: #00af00; text-decoration-color: #00af00\">0</span> │ conv1d_5[<span style=\"color: #00af00; text-decoration-color: #00af00\">0</span>][<span style=\"color: #00af00; text-decoration-color: #00af00\">0</span>],   │\n",
       "│ (<span style=\"color: #0087ff; text-decoration-color: #0087ff\">Concatenate</span>)       │                   │            │ conv1d_6[<span style=\"color: #00af00; text-decoration-color: #00af00\">0</span>][<span style=\"color: #00af00; text-decoration-color: #00af00\">0</span>],   │\n",
       "│                     │                   │            │ conv1d_7[<span style=\"color: #00af00; text-decoration-color: #00af00\">0</span>][<span style=\"color: #00af00; text-decoration-color: #00af00\">0</span>],   │\n",
       "│                     │                   │            │ conv1d_8[<span style=\"color: #00af00; text-decoration-color: #00af00\">0</span>][<span style=\"color: #00af00; text-decoration-color: #00af00\">0</span>]    │\n",
       "├─────────────────────┼───────────────────┼────────────┼───────────────────┤\n",
       "│ conv1d_9 (<span style=\"color: #0087ff; text-decoration-color: #0087ff\">Conv1D</span>)   │ (<span style=\"color: #00d7ff; text-decoration-color: #00d7ff\">None</span>, <span style=\"color: #00af00; text-decoration-color: #00af00\">1000</span>, <span style=\"color: #00af00; text-decoration-color: #00af00\">128</span>) │     <span style=\"color: #00af00; text-decoration-color: #00af00\">16,512</span> │ add[<span style=\"color: #00af00; text-decoration-color: #00af00\">0</span>][<span style=\"color: #00af00; text-decoration-color: #00af00\">0</span>]         │\n",
       "├─────────────────────┼───────────────────┼────────────┼───────────────────┤\n",
       "│ add_1 (<span style=\"color: #0087ff; text-decoration-color: #0087ff\">Add</span>)         │ (<span style=\"color: #00d7ff; text-decoration-color: #00d7ff\">None</span>, <span style=\"color: #00af00; text-decoration-color: #00af00\">1000</span>, <span style=\"color: #00af00; text-decoration-color: #00af00\">128</span>) │          <span style=\"color: #00af00; text-decoration-color: #00af00\">0</span> │ concatenate_1[<span style=\"color: #00af00; text-decoration-color: #00af00\">0</span>]… │\n",
       "│                     │                   │            │ conv1d_9[<span style=\"color: #00af00; text-decoration-color: #00af00\">0</span>][<span style=\"color: #00af00; text-decoration-color: #00af00\">0</span>]    │\n",
       "├─────────────────────┼───────────────────┼────────────┼───────────────────┤\n",
       "│ global_average_poo… │ (<span style=\"color: #00d7ff; text-decoration-color: #00d7ff\">None</span>, <span style=\"color: #00af00; text-decoration-color: #00af00\">128</span>)       │          <span style=\"color: #00af00; text-decoration-color: #00af00\">0</span> │ add_1[<span style=\"color: #00af00; text-decoration-color: #00af00\">0</span>][<span style=\"color: #00af00; text-decoration-color: #00af00\">0</span>]       │\n",
       "│ (<span style=\"color: #0087ff; text-decoration-color: #0087ff\">GlobalAveragePool…</span> │                   │            │                   │\n",
       "├─────────────────────┼───────────────────┼────────────┼───────────────────┤\n",
       "│ dense (<span style=\"color: #0087ff; text-decoration-color: #0087ff\">Dense</span>)       │ (<span style=\"color: #00d7ff; text-decoration-color: #00d7ff\">None</span>, <span style=\"color: #00af00; text-decoration-color: #00af00\">1</span>)         │        <span style=\"color: #00af00; text-decoration-color: #00af00\">129</span> │ global_average_p… │\n",
       "└─────────────────────┴───────────────────┴────────────┴───────────────────┘\n",
       "</pre>\n"
      ],
      "text/plain": [
       "┏━━━━━━━━━━━━━━━━━━━━━┳━━━━━━━━━━━━━━━━━━━┳━━━━━━━━━━━━┳━━━━━━━━━━━━━━━━━━━┓\n",
       "┃\u001b[1m \u001b[0m\u001b[1mLayer (type)       \u001b[0m\u001b[1m \u001b[0m┃\u001b[1m \u001b[0m\u001b[1mOutput Shape     \u001b[0m\u001b[1m \u001b[0m┃\u001b[1m \u001b[0m\u001b[1m   Param #\u001b[0m\u001b[1m \u001b[0m┃\u001b[1m \u001b[0m\u001b[1mConnected to     \u001b[0m\u001b[1m \u001b[0m┃\n",
       "┡━━━━━━━━━━━━━━━━━━━━━╇━━━━━━━━━━━━━━━━━━━╇━━━━━━━━━━━━╇━━━━━━━━━━━━━━━━━━━┩\n",
       "│ input_layer         │ (\u001b[38;5;45mNone\u001b[0m, \u001b[38;5;34m1000\u001b[0m, \u001b[38;5;34m12\u001b[0m)  │          \u001b[38;5;34m0\u001b[0m │ -                 │\n",
       "│ (\u001b[38;5;33mInputLayer\u001b[0m)        │                   │            │                   │\n",
       "├─────────────────────┼───────────────────┼────────────┼───────────────────┤\n",
       "│ max_pooling1d       │ (\u001b[38;5;45mNone\u001b[0m, \u001b[38;5;34m1000\u001b[0m, \u001b[38;5;34m12\u001b[0m)  │          \u001b[38;5;34m0\u001b[0m │ input_layer[\u001b[38;5;34m0\u001b[0m][\u001b[38;5;34m0\u001b[0m] │\n",
       "│ (\u001b[38;5;33mMaxPooling1D\u001b[0m)      │                   │            │                   │\n",
       "├─────────────────────┼───────────────────┼────────────┼───────────────────┤\n",
       "│ conv1d (\u001b[38;5;33mConv1D\u001b[0m)     │ (\u001b[38;5;45mNone\u001b[0m, \u001b[38;5;34m1000\u001b[0m, \u001b[38;5;34m32\u001b[0m)  │        \u001b[38;5;34m416\u001b[0m │ input_layer[\u001b[38;5;34m0\u001b[0m][\u001b[38;5;34m0\u001b[0m] │\n",
       "├─────────────────────┼───────────────────┼────────────┼───────────────────┤\n",
       "│ conv1d_1 (\u001b[38;5;33mConv1D\u001b[0m)   │ (\u001b[38;5;45mNone\u001b[0m, \u001b[38;5;34m1000\u001b[0m, \u001b[38;5;34m32\u001b[0m)  │      \u001b[38;5;34m1,184\u001b[0m │ input_layer[\u001b[38;5;34m0\u001b[0m][\u001b[38;5;34m0\u001b[0m] │\n",
       "├─────────────────────┼───────────────────┼────────────┼───────────────────┤\n",
       "│ conv1d_2 (\u001b[38;5;33mConv1D\u001b[0m)   │ (\u001b[38;5;45mNone\u001b[0m, \u001b[38;5;34m1000\u001b[0m, \u001b[38;5;34m32\u001b[0m)  │      \u001b[38;5;34m1,952\u001b[0m │ input_layer[\u001b[38;5;34m0\u001b[0m][\u001b[38;5;34m0\u001b[0m] │\n",
       "├─────────────────────┼───────────────────┼────────────┼───────────────────┤\n",
       "│ conv1d_3 (\u001b[38;5;33mConv1D\u001b[0m)   │ (\u001b[38;5;45mNone\u001b[0m, \u001b[38;5;34m1000\u001b[0m, \u001b[38;5;34m32\u001b[0m)  │        \u001b[38;5;34m416\u001b[0m │ max_pooling1d[\u001b[38;5;34m0\u001b[0m]… │\n",
       "├─────────────────────┼───────────────────┼────────────┼───────────────────┤\n",
       "│ concatenate         │ (\u001b[38;5;45mNone\u001b[0m, \u001b[38;5;34m1000\u001b[0m, \u001b[38;5;34m128\u001b[0m) │          \u001b[38;5;34m0\u001b[0m │ conv1d[\u001b[38;5;34m0\u001b[0m][\u001b[38;5;34m0\u001b[0m],     │\n",
       "│ (\u001b[38;5;33mConcatenate\u001b[0m)       │                   │            │ conv1d_1[\u001b[38;5;34m0\u001b[0m][\u001b[38;5;34m0\u001b[0m],   │\n",
       "│                     │                   │            │ conv1d_2[\u001b[38;5;34m0\u001b[0m][\u001b[38;5;34m0\u001b[0m],   │\n",
       "│                     │                   │            │ conv1d_3[\u001b[38;5;34m0\u001b[0m][\u001b[38;5;34m0\u001b[0m]    │\n",
       "├─────────────────────┼───────────────────┼────────────┼───────────────────┤\n",
       "│ conv1d_4 (\u001b[38;5;33mConv1D\u001b[0m)   │ (\u001b[38;5;45mNone\u001b[0m, \u001b[38;5;34m1000\u001b[0m, \u001b[38;5;34m128\u001b[0m) │      \u001b[38;5;34m1,664\u001b[0m │ input_layer[\u001b[38;5;34m0\u001b[0m][\u001b[38;5;34m0\u001b[0m] │\n",
       "├─────────────────────┼───────────────────┼────────────┼───────────────────┤\n",
       "│ add (\u001b[38;5;33mAdd\u001b[0m)           │ (\u001b[38;5;45mNone\u001b[0m, \u001b[38;5;34m1000\u001b[0m, \u001b[38;5;34m128\u001b[0m) │          \u001b[38;5;34m0\u001b[0m │ concatenate[\u001b[38;5;34m0\u001b[0m][\u001b[38;5;34m0\u001b[0m… │\n",
       "│                     │                   │            │ conv1d_4[\u001b[38;5;34m0\u001b[0m][\u001b[38;5;34m0\u001b[0m]    │\n",
       "├─────────────────────┼───────────────────┼────────────┼───────────────────┤\n",
       "│ max_pooling1d_1     │ (\u001b[38;5;45mNone\u001b[0m, \u001b[38;5;34m1000\u001b[0m, \u001b[38;5;34m128\u001b[0m) │          \u001b[38;5;34m0\u001b[0m │ add[\u001b[38;5;34m0\u001b[0m][\u001b[38;5;34m0\u001b[0m]         │\n",
       "│ (\u001b[38;5;33mMaxPooling1D\u001b[0m)      │                   │            │                   │\n",
       "├─────────────────────┼───────────────────┼────────────┼───────────────────┤\n",
       "│ conv1d_5 (\u001b[38;5;33mConv1D\u001b[0m)   │ (\u001b[38;5;45mNone\u001b[0m, \u001b[38;5;34m1000\u001b[0m, \u001b[38;5;34m32\u001b[0m)  │      \u001b[38;5;34m4,128\u001b[0m │ add[\u001b[38;5;34m0\u001b[0m][\u001b[38;5;34m0\u001b[0m]         │\n",
       "├─────────────────────┼───────────────────┼────────────┼───────────────────┤\n",
       "│ conv1d_6 (\u001b[38;5;33mConv1D\u001b[0m)   │ (\u001b[38;5;45mNone\u001b[0m, \u001b[38;5;34m1000\u001b[0m, \u001b[38;5;34m32\u001b[0m)  │     \u001b[38;5;34m12,320\u001b[0m │ add[\u001b[38;5;34m0\u001b[0m][\u001b[38;5;34m0\u001b[0m]         │\n",
       "├─────────────────────┼───────────────────┼────────────┼───────────────────┤\n",
       "│ conv1d_7 (\u001b[38;5;33mConv1D\u001b[0m)   │ (\u001b[38;5;45mNone\u001b[0m, \u001b[38;5;34m1000\u001b[0m, \u001b[38;5;34m32\u001b[0m)  │     \u001b[38;5;34m20,512\u001b[0m │ add[\u001b[38;5;34m0\u001b[0m][\u001b[38;5;34m0\u001b[0m]         │\n",
       "├─────────────────────┼───────────────────┼────────────┼───────────────────┤\n",
       "│ conv1d_8 (\u001b[38;5;33mConv1D\u001b[0m)   │ (\u001b[38;5;45mNone\u001b[0m, \u001b[38;5;34m1000\u001b[0m, \u001b[38;5;34m32\u001b[0m)  │      \u001b[38;5;34m4,128\u001b[0m │ max_pooling1d_1[\u001b[38;5;34m…\u001b[0m │\n",
       "├─────────────────────┼───────────────────┼────────────┼───────────────────┤\n",
       "│ concatenate_1       │ (\u001b[38;5;45mNone\u001b[0m, \u001b[38;5;34m1000\u001b[0m, \u001b[38;5;34m128\u001b[0m) │          \u001b[38;5;34m0\u001b[0m │ conv1d_5[\u001b[38;5;34m0\u001b[0m][\u001b[38;5;34m0\u001b[0m],   │\n",
       "│ (\u001b[38;5;33mConcatenate\u001b[0m)       │                   │            │ conv1d_6[\u001b[38;5;34m0\u001b[0m][\u001b[38;5;34m0\u001b[0m],   │\n",
       "│                     │                   │            │ conv1d_7[\u001b[38;5;34m0\u001b[0m][\u001b[38;5;34m0\u001b[0m],   │\n",
       "│                     │                   │            │ conv1d_8[\u001b[38;5;34m0\u001b[0m][\u001b[38;5;34m0\u001b[0m]    │\n",
       "├─────────────────────┼───────────────────┼────────────┼───────────────────┤\n",
       "│ conv1d_9 (\u001b[38;5;33mConv1D\u001b[0m)   │ (\u001b[38;5;45mNone\u001b[0m, \u001b[38;5;34m1000\u001b[0m, \u001b[38;5;34m128\u001b[0m) │     \u001b[38;5;34m16,512\u001b[0m │ add[\u001b[38;5;34m0\u001b[0m][\u001b[38;5;34m0\u001b[0m]         │\n",
       "├─────────────────────┼───────────────────┼────────────┼───────────────────┤\n",
       "│ add_1 (\u001b[38;5;33mAdd\u001b[0m)         │ (\u001b[38;5;45mNone\u001b[0m, \u001b[38;5;34m1000\u001b[0m, \u001b[38;5;34m128\u001b[0m) │          \u001b[38;5;34m0\u001b[0m │ concatenate_1[\u001b[38;5;34m0\u001b[0m]… │\n",
       "│                     │                   │            │ conv1d_9[\u001b[38;5;34m0\u001b[0m][\u001b[38;5;34m0\u001b[0m]    │\n",
       "├─────────────────────┼───────────────────┼────────────┼───────────────────┤\n",
       "│ global_average_poo… │ (\u001b[38;5;45mNone\u001b[0m, \u001b[38;5;34m128\u001b[0m)       │          \u001b[38;5;34m0\u001b[0m │ add_1[\u001b[38;5;34m0\u001b[0m][\u001b[38;5;34m0\u001b[0m]       │\n",
       "│ (\u001b[38;5;33mGlobalAveragePool…\u001b[0m │                   │            │                   │\n",
       "├─────────────────────┼───────────────────┼────────────┼───────────────────┤\n",
       "│ dense (\u001b[38;5;33mDense\u001b[0m)       │ (\u001b[38;5;45mNone\u001b[0m, \u001b[38;5;34m1\u001b[0m)         │        \u001b[38;5;34m129\u001b[0m │ global_average_p… │\n",
       "└─────────────────────┴───────────────────┴────────────┴───────────────────┘\n"
      ]
     },
     "metadata": {},
     "output_type": "display_data"
    },
    {
     "data": {
      "text/html": [
       "<pre style=\"white-space:pre;overflow-x:auto;line-height:normal;font-family:Menlo,'DejaVu Sans Mono',consolas,'Courier New',monospace\"><span style=\"font-weight: bold\"> Total params: </span><span style=\"color: #00af00; text-decoration-color: #00af00\">63,361</span> (247.50 KB)\n",
       "</pre>\n"
      ],
      "text/plain": [
       "\u001b[1m Total params: \u001b[0m\u001b[38;5;34m63,361\u001b[0m (247.50 KB)\n"
      ]
     },
     "metadata": {},
     "output_type": "display_data"
    },
    {
     "data": {
      "text/html": [
       "<pre style=\"white-space:pre;overflow-x:auto;line-height:normal;font-family:Menlo,'DejaVu Sans Mono',consolas,'Courier New',monospace\"><span style=\"font-weight: bold\"> Trainable params: </span><span style=\"color: #00af00; text-decoration-color: #00af00\">63,361</span> (247.50 KB)\n",
       "</pre>\n"
      ],
      "text/plain": [
       "\u001b[1m Trainable params: \u001b[0m\u001b[38;5;34m63,361\u001b[0m (247.50 KB)\n"
      ]
     },
     "metadata": {},
     "output_type": "display_data"
    },
    {
     "data": {
      "text/html": [
       "<pre style=\"white-space:pre;overflow-x:auto;line-height:normal;font-family:Menlo,'DejaVu Sans Mono',consolas,'Courier New',monospace\"><span style=\"font-weight: bold\"> Non-trainable params: </span><span style=\"color: #00af00; text-decoration-color: #00af00\">0</span> (0.00 B)\n",
       "</pre>\n"
      ],
      "text/plain": [
       "\u001b[1m Non-trainable params: \u001b[0m\u001b[38;5;34m0\u001b[0m (0.00 B)\n"
      ]
     },
     "metadata": {},
     "output_type": "display_data"
    }
   ],
   "source": [
    "# 5.1) Inception‐style block\n",
    "def _inception_module(x):\n",
    "    conv1 = tf.keras.layers.Conv1D(32, 1, padding=\"same\", activation=\"relu\")(x)\n",
    "    conv3 = tf.keras.layers.Conv1D(32, 3, padding=\"same\", activation=\"relu\")(x)\n",
    "    conv5 = tf.keras.layers.Conv1D(32, 5, padding=\"same\", activation=\"relu\")(x)\n",
    "    pool  = tf.keras.layers.MaxPool1D(pool_size=3, strides=1, padding=\"same\")(x)\n",
    "    pool_conv = tf.keras.layers.Conv1D(32, 1, padding=\"same\", activation=\"relu\")(pool)\n",
    "    return tf.keras.layers.Concatenate(axis=-1)([conv1, conv3, conv5, pool_conv])\n",
    "\n",
    "# 5.2) Residual shortcut\n",
    "def _shortcut_layer(inp, x):\n",
    "    conv = tf.keras.layers.Conv1D(x.shape[-1], kernel_size=1, padding=\"same\", activation=\"relu\")(inp)\n",
    "    return tf.keras.layers.Add()([x, conv])\n",
    "\n",
    "# 5.3) Build discriminator model\n",
    "def build_discriminator(input_shape=(1000, 12), depth=2, use_residual=True):\n",
    "    \"\"\"\n",
    "    Constructs an Inception‐ResNet style 1D CNN returning a scalar probability.\n",
    "    \"\"\"\n",
    "    inp = tf.keras.layers.Input(shape=input_shape)\n",
    "    x   = inp\n",
    "    res = inp\n",
    "\n",
    "    # Stack `depth` Inception + optional residual blocks\n",
    "    for d in range(depth):\n",
    "        x = _inception_module(x)\n",
    "        if use_residual:\n",
    "            x = _shortcut_layer(res, x)\n",
    "            res = x\n",
    "\n",
    "    x = tf.keras.layers.GlobalAveragePooling1D()(x)\n",
    "    out = tf.keras.layers.Dense(1, activation=\"sigmoid\")(x)\n",
    "    model = tf.keras.models.Model(inputs=inp, outputs=out, name=\"Discriminator\")\n",
    "\n",
    "    # CFD: during GAN training, we supply our own optimizer & loss; here we just compile for metrics.\n",
    "    model.compile(\n",
    "        loss = tf.keras.losses.BinaryCrossentropy(),\n",
    "        optimizer = tf.keras.optimizers.Adam(learning_rate=1e-4, beta_1=0.5),\n",
    "        metrics = [tf.keras.metrics.AUC(name=\"auroc\")]\n",
    "    )\n",
    "    return model\n",
    "\n",
    "# 5.4) Instantiate\n",
    "disc_arr = build_discriminator(input_shape=(1000, 12), depth=2, use_residual=True)\n",
    "disc_arr.summary()\n"
   ]
  },
  {
   "cell_type": "code",
   "execution_count": 7,
   "id": "8a8e5f6f",
   "metadata": {},
   "outputs": [
    {
     "name": "stderr",
     "output_type": "stream",
     "text": [
      "c:\\Users\\Bio-Optics\\anaconda3\\envs\\test\\Lib\\site-packages\\keras\\src\\layers\\core\\dense.py:87: UserWarning: Do not pass an `input_shape`/`input_dim` argument to a layer. When using Sequential models, prefer using an `Input(shape)` object as the first layer in the model instead.\n",
      "  super().__init__(activity_regularizer=activity_regularizer, **kwargs)\n"
     ]
    },
    {
     "data": {
      "text/html": [
       "<pre style=\"white-space:pre;overflow-x:auto;line-height:normal;font-family:Menlo,'DejaVu Sans Mono',consolas,'Courier New',monospace\"><span style=\"font-weight: bold\">Model: \"ECG_Generator\"</span>\n",
       "</pre>\n"
      ],
      "text/plain": [
       "\u001b[1mModel: \"ECG_Generator\"\u001b[0m\n"
      ]
     },
     "metadata": {},
     "output_type": "display_data"
    },
    {
     "data": {
      "text/html": [
       "<pre style=\"white-space:pre;overflow-x:auto;line-height:normal;font-family:Menlo,'DejaVu Sans Mono',consolas,'Courier New',monospace\">┏━━━━━━━━━━━━━━━━━━━━━━━━━━━━━━━━━┳━━━━━━━━━━━━━━━━━━━━━━━━┳━━━━━━━━━━━━━━━┓\n",
       "┃<span style=\"font-weight: bold\"> Layer (type)                    </span>┃<span style=\"font-weight: bold\"> Output Shape           </span>┃<span style=\"font-weight: bold\">       Param # </span>┃\n",
       "┡━━━━━━━━━━━━━━━━━━━━━━━━━━━━━━━━━╇━━━━━━━━━━━━━━━━━━━━━━━━╇━━━━━━━━━━━━━━━┩\n",
       "│ dense_1 (<span style=\"color: #0087ff; text-decoration-color: #0087ff\">Dense</span>)                 │ (<span style=\"color: #00d7ff; text-decoration-color: #00d7ff\">None</span>, <span style=\"color: #00af00; text-decoration-color: #00af00\">1</span>, <span style=\"color: #00af00; text-decoration-color: #00af00\">12000</span>)       │       <span style=\"color: #00af00; text-decoration-color: #00af00\">144,000</span> │\n",
       "├─────────────────────────────────┼────────────────────────┼───────────────┤\n",
       "│ batch_normalization             │ (<span style=\"color: #00d7ff; text-decoration-color: #00d7ff\">None</span>, <span style=\"color: #00af00; text-decoration-color: #00af00\">1</span>, <span style=\"color: #00af00; text-decoration-color: #00af00\">12000</span>)       │        <span style=\"color: #00af00; text-decoration-color: #00af00\">48,000</span> │\n",
       "│ (<span style=\"color: #0087ff; text-decoration-color: #0087ff\">BatchNormalization</span>)            │                        │               │\n",
       "├─────────────────────────────────┼────────────────────────┼───────────────┤\n",
       "│ leaky_re_lu (<span style=\"color: #0087ff; text-decoration-color: #0087ff\">LeakyReLU</span>)         │ (<span style=\"color: #00d7ff; text-decoration-color: #00d7ff\">None</span>, <span style=\"color: #00af00; text-decoration-color: #00af00\">1</span>, <span style=\"color: #00af00; text-decoration-color: #00af00\">12000</span>)       │             <span style=\"color: #00af00; text-decoration-color: #00af00\">0</span> │\n",
       "├─────────────────────────────────┼────────────────────────┼───────────────┤\n",
       "│ reshape (<span style=\"color: #0087ff; text-decoration-color: #0087ff\">Reshape</span>)               │ (<span style=\"color: #00d7ff; text-decoration-color: #00d7ff\">None</span>, <span style=\"color: #00af00; text-decoration-color: #00af00\">1000</span>, <span style=\"color: #00af00; text-decoration-color: #00af00\">12</span>)       │             <span style=\"color: #00af00; text-decoration-color: #00af00\">0</span> │\n",
       "├─────────────────────────────────┼────────────────────────┼───────────────┤\n",
       "│ conv1d_transpose                │ (<span style=\"color: #00d7ff; text-decoration-color: #00d7ff\">None</span>, <span style=\"color: #00af00; text-decoration-color: #00af00\">1000</span>, <span style=\"color: #00af00; text-decoration-color: #00af00\">128</span>)      │         <span style=\"color: #00af00; text-decoration-color: #00af00\">7,680</span> │\n",
       "│ (<span style=\"color: #0087ff; text-decoration-color: #0087ff\">Conv1DTranspose</span>)               │                        │               │\n",
       "├─────────────────────────────────┼────────────────────────┼───────────────┤\n",
       "│ batch_normalization_1           │ (<span style=\"color: #00d7ff; text-decoration-color: #00d7ff\">None</span>, <span style=\"color: #00af00; text-decoration-color: #00af00\">1000</span>, <span style=\"color: #00af00; text-decoration-color: #00af00\">128</span>)      │           <span style=\"color: #00af00; text-decoration-color: #00af00\">512</span> │\n",
       "│ (<span style=\"color: #0087ff; text-decoration-color: #0087ff\">BatchNormalization</span>)            │                        │               │\n",
       "├─────────────────────────────────┼────────────────────────┼───────────────┤\n",
       "│ leaky_re_lu_1 (<span style=\"color: #0087ff; text-decoration-color: #0087ff\">LeakyReLU</span>)       │ (<span style=\"color: #00d7ff; text-decoration-color: #00d7ff\">None</span>, <span style=\"color: #00af00; text-decoration-color: #00af00\">1000</span>, <span style=\"color: #00af00; text-decoration-color: #00af00\">128</span>)      │             <span style=\"color: #00af00; text-decoration-color: #00af00\">0</span> │\n",
       "├─────────────────────────────────┼────────────────────────┼───────────────┤\n",
       "│ conv1d_transpose_1              │ (<span style=\"color: #00d7ff; text-decoration-color: #00d7ff\">None</span>, <span style=\"color: #00af00; text-decoration-color: #00af00\">1000</span>, <span style=\"color: #00af00; text-decoration-color: #00af00\">64</span>)       │        <span style=\"color: #00af00; text-decoration-color: #00af00\">40,960</span> │\n",
       "│ (<span style=\"color: #0087ff; text-decoration-color: #0087ff\">Conv1DTranspose</span>)               │                        │               │\n",
       "├─────────────────────────────────┼────────────────────────┼───────────────┤\n",
       "│ batch_normalization_2           │ (<span style=\"color: #00d7ff; text-decoration-color: #00d7ff\">None</span>, <span style=\"color: #00af00; text-decoration-color: #00af00\">1000</span>, <span style=\"color: #00af00; text-decoration-color: #00af00\">64</span>)       │           <span style=\"color: #00af00; text-decoration-color: #00af00\">256</span> │\n",
       "│ (<span style=\"color: #0087ff; text-decoration-color: #0087ff\">BatchNormalization</span>)            │                        │               │\n",
       "├─────────────────────────────────┼────────────────────────┼───────────────┤\n",
       "│ leaky_re_lu_2 (<span style=\"color: #0087ff; text-decoration-color: #0087ff\">LeakyReLU</span>)       │ (<span style=\"color: #00d7ff; text-decoration-color: #00d7ff\">None</span>, <span style=\"color: #00af00; text-decoration-color: #00af00\">1000</span>, <span style=\"color: #00af00; text-decoration-color: #00af00\">64</span>)       │             <span style=\"color: #00af00; text-decoration-color: #00af00\">0</span> │\n",
       "├─────────────────────────────────┼────────────────────────┼───────────────┤\n",
       "│ conv1d_transpose_2              │ (<span style=\"color: #00d7ff; text-decoration-color: #00d7ff\">None</span>, <span style=\"color: #00af00; text-decoration-color: #00af00\">1000</span>, <span style=\"color: #00af00; text-decoration-color: #00af00\">12</span>)       │         <span style=\"color: #00af00; text-decoration-color: #00af00\">3,840</span> │\n",
       "│ (<span style=\"color: #0087ff; text-decoration-color: #0087ff\">Conv1DTranspose</span>)               │                        │               │\n",
       "└─────────────────────────────────┴────────────────────────┴───────────────┘\n",
       "</pre>\n"
      ],
      "text/plain": [
       "┏━━━━━━━━━━━━━━━━━━━━━━━━━━━━━━━━━┳━━━━━━━━━━━━━━━━━━━━━━━━┳━━━━━━━━━━━━━━━┓\n",
       "┃\u001b[1m \u001b[0m\u001b[1mLayer (type)                   \u001b[0m\u001b[1m \u001b[0m┃\u001b[1m \u001b[0m\u001b[1mOutput Shape          \u001b[0m\u001b[1m \u001b[0m┃\u001b[1m \u001b[0m\u001b[1m      Param #\u001b[0m\u001b[1m \u001b[0m┃\n",
       "┡━━━━━━━━━━━━━━━━━━━━━━━━━━━━━━━━━╇━━━━━━━━━━━━━━━━━━━━━━━━╇━━━━━━━━━━━━━━━┩\n",
       "│ dense_1 (\u001b[38;5;33mDense\u001b[0m)                 │ (\u001b[38;5;45mNone\u001b[0m, \u001b[38;5;34m1\u001b[0m, \u001b[38;5;34m12000\u001b[0m)       │       \u001b[38;5;34m144,000\u001b[0m │\n",
       "├─────────────────────────────────┼────────────────────────┼───────────────┤\n",
       "│ batch_normalization             │ (\u001b[38;5;45mNone\u001b[0m, \u001b[38;5;34m1\u001b[0m, \u001b[38;5;34m12000\u001b[0m)       │        \u001b[38;5;34m48,000\u001b[0m │\n",
       "│ (\u001b[38;5;33mBatchNormalization\u001b[0m)            │                        │               │\n",
       "├─────────────────────────────────┼────────────────────────┼───────────────┤\n",
       "│ leaky_re_lu (\u001b[38;5;33mLeakyReLU\u001b[0m)         │ (\u001b[38;5;45mNone\u001b[0m, \u001b[38;5;34m1\u001b[0m, \u001b[38;5;34m12000\u001b[0m)       │             \u001b[38;5;34m0\u001b[0m │\n",
       "├─────────────────────────────────┼────────────────────────┼───────────────┤\n",
       "│ reshape (\u001b[38;5;33mReshape\u001b[0m)               │ (\u001b[38;5;45mNone\u001b[0m, \u001b[38;5;34m1000\u001b[0m, \u001b[38;5;34m12\u001b[0m)       │             \u001b[38;5;34m0\u001b[0m │\n",
       "├─────────────────────────────────┼────────────────────────┼───────────────┤\n",
       "│ conv1d_transpose                │ (\u001b[38;5;45mNone\u001b[0m, \u001b[38;5;34m1000\u001b[0m, \u001b[38;5;34m128\u001b[0m)      │         \u001b[38;5;34m7,680\u001b[0m │\n",
       "│ (\u001b[38;5;33mConv1DTranspose\u001b[0m)               │                        │               │\n",
       "├─────────────────────────────────┼────────────────────────┼───────────────┤\n",
       "│ batch_normalization_1           │ (\u001b[38;5;45mNone\u001b[0m, \u001b[38;5;34m1000\u001b[0m, \u001b[38;5;34m128\u001b[0m)      │           \u001b[38;5;34m512\u001b[0m │\n",
       "│ (\u001b[38;5;33mBatchNormalization\u001b[0m)            │                        │               │\n",
       "├─────────────────────────────────┼────────────────────────┼───────────────┤\n",
       "│ leaky_re_lu_1 (\u001b[38;5;33mLeakyReLU\u001b[0m)       │ (\u001b[38;5;45mNone\u001b[0m, \u001b[38;5;34m1000\u001b[0m, \u001b[38;5;34m128\u001b[0m)      │             \u001b[38;5;34m0\u001b[0m │\n",
       "├─────────────────────────────────┼────────────────────────┼───────────────┤\n",
       "│ conv1d_transpose_1              │ (\u001b[38;5;45mNone\u001b[0m, \u001b[38;5;34m1000\u001b[0m, \u001b[38;5;34m64\u001b[0m)       │        \u001b[38;5;34m40,960\u001b[0m │\n",
       "│ (\u001b[38;5;33mConv1DTranspose\u001b[0m)               │                        │               │\n",
       "├─────────────────────────────────┼────────────────────────┼───────────────┤\n",
       "│ batch_normalization_2           │ (\u001b[38;5;45mNone\u001b[0m, \u001b[38;5;34m1000\u001b[0m, \u001b[38;5;34m64\u001b[0m)       │           \u001b[38;5;34m256\u001b[0m │\n",
       "│ (\u001b[38;5;33mBatchNormalization\u001b[0m)            │                        │               │\n",
       "├─────────────────────────────────┼────────────────────────┼───────────────┤\n",
       "│ leaky_re_lu_2 (\u001b[38;5;33mLeakyReLU\u001b[0m)       │ (\u001b[38;5;45mNone\u001b[0m, \u001b[38;5;34m1000\u001b[0m, \u001b[38;5;34m64\u001b[0m)       │             \u001b[38;5;34m0\u001b[0m │\n",
       "├─────────────────────────────────┼────────────────────────┼───────────────┤\n",
       "│ conv1d_transpose_2              │ (\u001b[38;5;45mNone\u001b[0m, \u001b[38;5;34m1000\u001b[0m, \u001b[38;5;34m12\u001b[0m)       │         \u001b[38;5;34m3,840\u001b[0m │\n",
       "│ (\u001b[38;5;33mConv1DTranspose\u001b[0m)               │                        │               │\n",
       "└─────────────────────────────────┴────────────────────────┴───────────────┘\n"
      ]
     },
     "metadata": {},
     "output_type": "display_data"
    },
    {
     "data": {
      "text/html": [
       "<pre style=\"white-space:pre;overflow-x:auto;line-height:normal;font-family:Menlo,'DejaVu Sans Mono',consolas,'Courier New',monospace\"><span style=\"font-weight: bold\"> Total params: </span><span style=\"color: #00af00; text-decoration-color: #00af00\">245,248</span> (958.00 KB)\n",
       "</pre>\n"
      ],
      "text/plain": [
       "\u001b[1m Total params: \u001b[0m\u001b[38;5;34m245,248\u001b[0m (958.00 KB)\n"
      ]
     },
     "metadata": {},
     "output_type": "display_data"
    },
    {
     "data": {
      "text/html": [
       "<pre style=\"white-space:pre;overflow-x:auto;line-height:normal;font-family:Menlo,'DejaVu Sans Mono',consolas,'Courier New',monospace\"><span style=\"font-weight: bold\"> Trainable params: </span><span style=\"color: #00af00; text-decoration-color: #00af00\">220,864</span> (862.75 KB)\n",
       "</pre>\n"
      ],
      "text/plain": [
       "\u001b[1m Trainable params: \u001b[0m\u001b[38;5;34m220,864\u001b[0m (862.75 KB)\n"
      ]
     },
     "metadata": {},
     "output_type": "display_data"
    },
    {
     "data": {
      "text/html": [
       "<pre style=\"white-space:pre;overflow-x:auto;line-height:normal;font-family:Menlo,'DejaVu Sans Mono',consolas,'Courier New',monospace\"><span style=\"font-weight: bold\"> Non-trainable params: </span><span style=\"color: #00af00; text-decoration-color: #00af00\">24,384</span> (95.25 KB)\n",
       "</pre>\n"
      ],
      "text/plain": [
       "\u001b[1m Non-trainable params: \u001b[0m\u001b[38;5;34m24,384\u001b[0m (95.25 KB)\n"
      ]
     },
     "metadata": {},
     "output_type": "display_data"
    }
   ],
   "source": [
    "def build_generator(latent_dim=12):\n",
    "    \"\"\"\n",
    "    Inputs: noise vector z of shape (1, latent_dim).\n",
    "    Outputs: a (1000, 12) ECG in [-1,1] range (later interpret as ±1 mV).\n",
    "    \"\"\"\n",
    "    model = tf.keras.Sequential(name=\"ECG_Generator\")\n",
    "    # 1) Dense → BatchNorm → LeakyReLU → reshape to (1000,12)\n",
    "    model.add(tf.keras.layers.Dense(12 * 1000, use_bias=False, input_shape=(1, latent_dim)))\n",
    "    model.add(tf.keras.layers.BatchNormalization())\n",
    "    model.add(tf.keras.layers.LeakyReLU())\n",
    "    model.add(tf.keras.layers.Reshape((1000, 12)))  # now shape = (batch, 1000, 12)\n",
    "\n",
    "    # 2) Conv1DTranspose(128) → BatchNorm → LeakyReLU\n",
    "    model.add(tf.keras.layers.Conv1DTranspose(128, kernel_size=5, strides=1, padding=\"same\", use_bias=False))\n",
    "    model.add(tf.keras.layers.BatchNormalization())\n",
    "    model.add(tf.keras.layers.LeakyReLU())\n",
    "\n",
    "    # 3) Conv1DTranspose(64) → BatchNorm → LeakyReLU\n",
    "    model.add(tf.keras.layers.Conv1DTranspose(64, kernel_size=5, strides=1, padding=\"same\", use_bias=False))\n",
    "    model.add(tf.keras.layers.BatchNormalization())\n",
    "    model.add(tf.keras.layers.LeakyReLU())\n",
    "\n",
    "    # 4) Final Conv1DTranspose(12) → tanh (no bias)\n",
    "    model.add(tf.keras.layers.Conv1DTranspose(\n",
    "        12, kernel_size=5, strides=1, padding=\"same\", activation=\"tanh\", use_bias=False\n",
    "    ))\n",
    "\n",
    "    return model\n",
    "\n",
    "# 6.1) Instantiate\n",
    "gen_arr = build_generator(latent_dim=12)\n",
    "gen_arr.summary()\n"
   ]
  },
  {
   "cell_type": "code",
   "execution_count": 8,
   "id": "24cf2723",
   "metadata": {},
   "outputs": [],
   "source": [
    "from sklearn.metrics import roc_auc_score\n",
    "\n",
    "def safe_roc_auc(y_true, y_pred_probs):\n",
    "    \"\"\"\n",
    "    Only compute ROC AUC if y_true contains both 0 and 1.\n",
    "    Otherwise return np.nan.\n",
    "    \"\"\"\n",
    "    unique_labels = np.unique(y_true)\n",
    "    if len(unique_labels) != 2:\n",
    "        return np.nan\n",
    "    return roc_auc_score(y_true, y_pred_probs)\n",
    "\n",
    "def train_gan_on_arrhythmia(gen, desc, ECGs_arr, \n",
    "                            epochs=100, batch_size=16, latent_dim=12, \n",
    "                            lr_desc=2e-4, lr_gen=4e-4, \n",
    "                            checkpoint_interval=10, \n",
    "                            save_dir=\"arrhythmia_gan_outputs\"):\n",
    "    \"\"\"\n",
    "    Trains a GAN on arrhythmic ECGs (ECGs_arr: shape = (N_arr, 1000,12)).\n",
    "    Uses the same D & G architectures defined above.\n",
    "    Saves final weights + loss/AUC curves + checkpoint ECG images to `save_dir`.\n",
    "    \"\"\"\n",
    "\n",
    "    os.makedirs(save_dir, exist_ok=True)\n",
    "\n",
    "    # 1) Prepare metric lists\n",
    "    all_d_losses = []\n",
    "    all_g_losses = []\n",
    "    all_d_auc    = []\n",
    "    all_g_auc    = []\n",
    "\n",
    "    # 2) Create optimizers\n",
    "    opt_desc = tf.keras.optimizers.Adam(learning_rate=lr_desc, beta_1=0.5, beta_2=0.9)\n",
    "    opt_gen  = tf.keras.optimizers.Adam(learning_rate=lr_gen,  beta_1=0.5, beta_2=0.9)\n",
    "\n",
    "    half_batch      = batch_size // 2\n",
    "    steps_per_epoch = max(1, ECGs_arr.shape[0] // batch_size)\n",
    "\n",
    "    # 3) Helper: sample real arrhythmia ECGs\n",
    "    def generate_real_arr_batch(arr_ecgs, n):\n",
    "        idx = np.random.choice(arr_ecgs.shape[0], n, replace=False)\n",
    "        X   = arr_ecgs[idx]                 # shape = (n, 1000, 12)\n",
    "        y   = tf.ones((n, 1))               # label=1 for real\n",
    "        return X, y\n",
    "\n",
    "    # 4) Helper: sample fake ECGs from generator\n",
    "    def generate_fake_arr_batch(gen_model, n):\n",
    "        z = np.random.randn(n, 1, latent_dim).astype(\"float32\")\n",
    "        fake = gen_model(z, training=False)  # shape = (n, 1000,12)\n",
    "        y    = np.zeros((n, 1))              # label=0 for fake\n",
    "        return fake, y\n",
    "\n",
    "    # 5) Training loop\n",
    "    for epoch in range(1, epochs + 1):\n",
    "        epoch_d_losses = []\n",
    "        epoch_g_losses = []\n",
    "        epoch_d_auc    = []\n",
    "        epoch_g_auc    = []\n",
    "\n",
    "        # (Optionally decay LR)\n",
    "        if epoch > 1 and epoch % 20 == 0:\n",
    "            new_lr_desc = opt_desc.learning_rate * 0.5\n",
    "            new_lr_gen  = opt_gen.learning_rate  * 0.5\n",
    "            opt_desc.learning_rate.assign(new_lr_desc)\n",
    "            opt_gen.learning_rate.assign(new_lr_gen)\n",
    "            print(f\"→ Halved LRs: lr_desc={new_lr_desc:.2e}, lr_gen={new_lr_gen:.2e}\")\n",
    "\n",
    "        for step in range(steps_per_epoch):\n",
    "            # A) Train Discriminator on Arrhythmia Real vs. Fake\n",
    "            X_real, y_real = generate_real_arr_batch(ECGs_arr, half_batch)\n",
    "            X_fake, y_fake = generate_fake_arr_batch(gen, half_batch)\n",
    "\n",
    "            # Stack real+fake\n",
    "            X_disc = np.vstack([X_real, X_fake])  # (batch_size, 1000,12)\n",
    "            y_disc = np.vstack([y_real, y_fake])  # (batch_size,1)\n",
    "\n",
    "            # Shuffle\n",
    "            perm = np.random.permutation(batch_size)\n",
    "            Xd  = X_disc[perm]\n",
    "            yd  = y_disc[perm]\n",
    "\n",
    "            # Compute D loss + update\n",
    "            with tf.GradientTape() as tape_d:\n",
    "                pred_d = desc(Xd, training=True)                        # (batch_size,1)\n",
    "                loss_d = tf.keras.losses.binary_crossentropy(yd, pred_d)\n",
    "            grads_d = tape_d.gradient(loss_d, desc.trainable_variables)\n",
    "            opt_desc.apply_gradients(zip(grads_d, desc.trainable_variables))\n",
    "\n",
    "            # Safe AUC for D\n",
    "            yd_np   = yd.flatten()\n",
    "            predd_np= pred_d.numpy().flatten()\n",
    "            auc_d   = safe_roc_auc(yd_np, predd_np)\n",
    "\n",
    "            # B) Train Generator to fool D\n",
    "            z_g        = np.random.randn(batch_size, 1, latent_dim).astype(\"float32\")\n",
    "            y_g_target = tf.ones((batch_size, 1))  # want D(G(z)) → 1\n",
    "\n",
    "            with tf.GradientTape() as tape_g:\n",
    "                fake_for_g = gen(z_g, training=True)                        # (batch_size,1000,12)\n",
    "                pred_g     = desc(fake_for_g, training=False)               # freeze D\n",
    "                loss_g     = tf.keras.losses.binary_crossentropy(y_g_target, pred_g)\n",
    "            grads_g = tape_g.gradient(loss_g, gen.trainable_variables)\n",
    "            opt_gen.apply_gradients(zip(grads_g, gen.trainable_variables))\n",
    "\n",
    "            # Safe AUC for G\n",
    "            yg_np    = y_g_target.numpy().flatten()\n",
    "            predg_np = pred_g.numpy().flatten()\n",
    "            auc_g    = safe_roc_auc(yg_np, predg_np)\n",
    "\n",
    "            # Record step‐metrics\n",
    "            epoch_d_losses.append(np.mean(loss_d.numpy()))\n",
    "            epoch_g_losses.append(np.mean(loss_g.numpy()))\n",
    "            epoch_d_auc.append(auc_d)\n",
    "            epoch_g_auc.append(auc_g)\n",
    "\n",
    "        # End of epoch → aggregate\n",
    "        mean_d_loss = np.mean(epoch_d_losses)\n",
    "        mean_g_loss = np.mean(epoch_g_losses)\n",
    "        mean_d_auc  = np.nanmean(epoch_d_auc)\n",
    "        mean_g_auc  = np.nanmean(epoch_g_auc)\n",
    "\n",
    "        all_d_losses.append(mean_d_loss)\n",
    "        all_g_losses.append(mean_g_loss)\n",
    "        all_d_auc.append(mean_d_auc)\n",
    "        all_g_auc.append(mean_g_auc)\n",
    "\n",
    "        print(f\"Epoch {epoch}/{epochs}  |  D_loss={mean_d_loss:.4f}, D_AUC={mean_d_auc:.4f}  |  \"\n",
    "              f\"G_loss={mean_g_loss:.4f}, G_AUC={mean_g_auc:.4f}\")\n",
    "\n",
    "        # Checkpoint: every `checkpoint_interval` epochs, plot 1 fake vs. real (arrhythmia lead I)\n",
    "        if epoch % checkpoint_interval == 0:\n",
    "            # Generate one fake arrhythmia\n",
    "            z_plot = np.random.randn(1, 1, latent_dim).astype(\"float32\")\n",
    "            fake_p = gen(z_plot, training=False).numpy()[0,:,:]\n",
    "            # Sample one random real arrhythmia\n",
    "            real_idx = np.random.randint(0, ECGs_arr.shape[0])\n",
    "            real_p   = ECGs_arr[real_idx]   # shape = (1000,12)\n",
    "\n",
    "            plt.figure(figsize=(16,4))\n",
    "            plt.subplot(1,2,1)\n",
    "            plt.plot(fake_p[:,0], color=\"crimson\")\n",
    "            plt.title(f\"Epoch {epoch} – Fake Arrhythmia (Lead I)\")\n",
    "            plt.subplot(1,2,2)\n",
    "            plt.plot(real_p[:,0], color=\"black\")\n",
    "            plt.title(f\"Epoch {epoch} – Real Arrhythmia (Lead I)\")\n",
    "            plt.savefig(f\"{save_dir}/arr_ecg_epoch_{epoch}.png\")\n",
    "            plt.clf()\n",
    "\n",
    "    # After all epochs, save final weights\n",
    "    gen_path  = os.path.join(save_dir, \"generator_arrhythmia_final.weights.h5\")\n",
    "    desc_path = os.path.join(save_dir, \"discriminator_arrhythmia_final.weights.h5\")\n",
    "\n",
    "    gen.save_weights(gen_path)\n",
    "    desc.save_weights(desc_path)\n",
    "    print(f\"\\n✅ Arrhythmia‐GAN training complete. Weights saved to:\\n  • {gen_path}\\n  • {desc_path}\")\n",
    "\n",
    "    # Save loss & AUC curves\n",
    "    epochs_arr = np.arange(1, epochs+1)\n",
    "    plt.figure(figsize=(8,4))\n",
    "    plt.plot(epochs_arr, all_d_losses, label=\"D_loss\")\n",
    "    plt.plot(epochs_arr, all_g_losses, label=\"G_loss\")\n",
    "    plt.title(\"GAN Losses (Arrhythmia Only)\")\n",
    "    plt.xlabel(\"Epoch\")\n",
    "    plt.ylabel(\"Loss\")\n",
    "    plt.legend()\n",
    "    plt.savefig(f\"{save_dir}/arr_loss_curve.png\")\n",
    "    plt.clf()\n",
    "\n",
    "    plt.figure(figsize=(8,4))\n",
    "    plt.plot(epochs_arr, all_d_auc, label=\"D_AUC\")\n",
    "    plt.plot(epochs_arr, all_g_auc, label=\"G_AUC\")\n",
    "    plt.title(\"GAN AUROC (Arrhythmia Only)\")\n",
    "    plt.xlabel(\"Epoch\")\n",
    "    plt.ylabel(\"AUROC\")\n",
    "    plt.legend()\n",
    "    plt.savefig(f\"{save_dir}/arr_auc_curve.png\")\n",
    "    plt.clf()\n",
    "\n",
    "    return gen, desc, {\n",
    "        \"d_loss\": all_d_losses,\n",
    "        \"g_loss\": all_g_losses,\n",
    "        \"d_auc\":  all_d_auc,\n",
    "        \"g_auc\":  all_g_auc\n",
    "    }\n"
   ]
  },
  {
   "cell_type": "code",
   "execution_count": 11,
   "id": "1d0bd2e9",
   "metadata": {},
   "outputs": [
    {
     "name": "stderr",
     "output_type": "stream",
     "text": [
      "C:\\Users\\Bio-Optics\\AppData\\Local\\Temp\\ipykernel_15240\\63538087.py:120: RuntimeWarning: Mean of empty slice\n",
      "  mean_g_auc  = np.nanmean(epoch_g_auc)\n"
     ]
    },
    {
     "name": "stdout",
     "output_type": "stream",
     "text": [
      "Epoch 1/100  |  D_loss=0.6021, D_AUC=0.8343  |  G_loss=0.3370, G_AUC=nan\n"
     ]
    },
    {
     "name": "stderr",
     "output_type": "stream",
     "text": [
      "C:\\Users\\Bio-Optics\\AppData\\Local\\Temp\\ipykernel_15240\\63538087.py:120: RuntimeWarning: Mean of empty slice\n",
      "  mean_g_auc  = np.nanmean(epoch_g_auc)\n"
     ]
    },
    {
     "name": "stdout",
     "output_type": "stream",
     "text": [
      "Epoch 2/100  |  D_loss=0.4918, D_AUC=0.9377  |  G_loss=0.3016, G_AUC=nan\n"
     ]
    },
    {
     "name": "stderr",
     "output_type": "stream",
     "text": [
      "C:\\Users\\Bio-Optics\\AppData\\Local\\Temp\\ipykernel_15240\\63538087.py:120: RuntimeWarning: Mean of empty slice\n",
      "  mean_g_auc  = np.nanmean(epoch_g_auc)\n"
     ]
    },
    {
     "name": "stdout",
     "output_type": "stream",
     "text": [
      "Epoch 3/100  |  D_loss=0.3758, D_AUC=0.9507  |  G_loss=0.1460, G_AUC=nan\n"
     ]
    },
    {
     "name": "stderr",
     "output_type": "stream",
     "text": [
      "C:\\Users\\Bio-Optics\\AppData\\Local\\Temp\\ipykernel_15240\\63538087.py:120: RuntimeWarning: Mean of empty slice\n",
      "  mean_g_auc  = np.nanmean(epoch_g_auc)\n"
     ]
    },
    {
     "name": "stdout",
     "output_type": "stream",
     "text": [
      "Epoch 4/100  |  D_loss=0.2822, D_AUC=0.9683  |  G_loss=0.1028, G_AUC=nan\n"
     ]
    },
    {
     "name": "stderr",
     "output_type": "stream",
     "text": [
      "C:\\Users\\Bio-Optics\\AppData\\Local\\Temp\\ipykernel_15240\\63538087.py:120: RuntimeWarning: Mean of empty slice\n",
      "  mean_g_auc  = np.nanmean(epoch_g_auc)\n"
     ]
    },
    {
     "name": "stdout",
     "output_type": "stream",
     "text": [
      "Epoch 5/100  |  D_loss=0.3048, D_AUC=0.9614  |  G_loss=0.2220, G_AUC=nan\n"
     ]
    },
    {
     "name": "stderr",
     "output_type": "stream",
     "text": [
      "C:\\Users\\Bio-Optics\\AppData\\Local\\Temp\\ipykernel_15240\\63538087.py:120: RuntimeWarning: Mean of empty slice\n",
      "  mean_g_auc  = np.nanmean(epoch_g_auc)\n"
     ]
    },
    {
     "name": "stdout",
     "output_type": "stream",
     "text": [
      "Epoch 6/100  |  D_loss=0.2287, D_AUC=0.9885  |  G_loss=0.3290, G_AUC=nan\n"
     ]
    },
    {
     "name": "stderr",
     "output_type": "stream",
     "text": [
      "C:\\Users\\Bio-Optics\\AppData\\Local\\Temp\\ipykernel_15240\\63538087.py:120: RuntimeWarning: Mean of empty slice\n",
      "  mean_g_auc  = np.nanmean(epoch_g_auc)\n"
     ]
    },
    {
     "name": "stdout",
     "output_type": "stream",
     "text": [
      "Epoch 7/100  |  D_loss=0.2621, D_AUC=0.9877  |  G_loss=0.6307, G_AUC=nan\n"
     ]
    },
    {
     "name": "stderr",
     "output_type": "stream",
     "text": [
      "C:\\Users\\Bio-Optics\\AppData\\Local\\Temp\\ipykernel_15240\\63538087.py:120: RuntimeWarning: Mean of empty slice\n",
      "  mean_g_auc  = np.nanmean(epoch_g_auc)\n"
     ]
    },
    {
     "name": "stdout",
     "output_type": "stream",
     "text": [
      "Epoch 8/100  |  D_loss=0.1926, D_AUC=0.9920  |  G_loss=0.7361, G_AUC=nan\n"
     ]
    },
    {
     "name": "stderr",
     "output_type": "stream",
     "text": [
      "C:\\Users\\Bio-Optics\\AppData\\Local\\Temp\\ipykernel_15240\\63538087.py:120: RuntimeWarning: Mean of empty slice\n",
      "  mean_g_auc  = np.nanmean(epoch_g_auc)\n"
     ]
    },
    {
     "name": "stdout",
     "output_type": "stream",
     "text": [
      "Epoch 9/100  |  D_loss=0.2518, D_AUC=0.9936  |  G_loss=1.2586, G_AUC=nan\n"
     ]
    },
    {
     "name": "stderr",
     "output_type": "stream",
     "text": [
      "C:\\Users\\Bio-Optics\\AppData\\Local\\Temp\\ipykernel_15240\\63538087.py:120: RuntimeWarning: Mean of empty slice\n",
      "  mean_g_auc  = np.nanmean(epoch_g_auc)\n"
     ]
    },
    {
     "name": "stdout",
     "output_type": "stream",
     "text": [
      "Epoch 10/100  |  D_loss=0.2194, D_AUC=0.9951  |  G_loss=1.4350, G_AUC=nan\n"
     ]
    },
    {
     "name": "stderr",
     "output_type": "stream",
     "text": [
      "C:\\Users\\Bio-Optics\\AppData\\Local\\Temp\\ipykernel_15240\\63538087.py:120: RuntimeWarning: Mean of empty slice\n",
      "  mean_g_auc  = np.nanmean(epoch_g_auc)\n"
     ]
    },
    {
     "name": "stdout",
     "output_type": "stream",
     "text": [
      "Epoch 11/100  |  D_loss=0.2147, D_AUC=0.9960  |  G_loss=1.3758, G_AUC=nan\n"
     ]
    },
    {
     "name": "stderr",
     "output_type": "stream",
     "text": [
      "C:\\Users\\Bio-Optics\\AppData\\Local\\Temp\\ipykernel_15240\\63538087.py:120: RuntimeWarning: Mean of empty slice\n",
      "  mean_g_auc  = np.nanmean(epoch_g_auc)\n"
     ]
    },
    {
     "name": "stdout",
     "output_type": "stream",
     "text": [
      "Epoch 12/100  |  D_loss=0.1880, D_AUC=0.9966  |  G_loss=1.1479, G_AUC=nan\n"
     ]
    },
    {
     "name": "stderr",
     "output_type": "stream",
     "text": [
      "C:\\Users\\Bio-Optics\\AppData\\Local\\Temp\\ipykernel_15240\\63538087.py:120: RuntimeWarning: Mean of empty slice\n",
      "  mean_g_auc  = np.nanmean(epoch_g_auc)\n"
     ]
    },
    {
     "name": "stdout",
     "output_type": "stream",
     "text": [
      "Epoch 13/100  |  D_loss=0.1886, D_AUC=0.9966  |  G_loss=1.5320, G_AUC=nan\n"
     ]
    },
    {
     "name": "stderr",
     "output_type": "stream",
     "text": [
      "C:\\Users\\Bio-Optics\\AppData\\Local\\Temp\\ipykernel_15240\\63538087.py:120: RuntimeWarning: Mean of empty slice\n",
      "  mean_g_auc  = np.nanmean(epoch_g_auc)\n"
     ]
    },
    {
     "name": "stdout",
     "output_type": "stream",
     "text": [
      "Epoch 14/100  |  D_loss=0.1817, D_AUC=0.9976  |  G_loss=1.3954, G_AUC=nan\n"
     ]
    },
    {
     "name": "stderr",
     "output_type": "stream",
     "text": [
      "C:\\Users\\Bio-Optics\\AppData\\Local\\Temp\\ipykernel_15240\\63538087.py:120: RuntimeWarning: Mean of empty slice\n",
      "  mean_g_auc  = np.nanmean(epoch_g_auc)\n"
     ]
    },
    {
     "name": "stdout",
     "output_type": "stream",
     "text": [
      "Epoch 15/100  |  D_loss=0.1410, D_AUC=0.9963  |  G_loss=1.0187, G_AUC=nan\n"
     ]
    },
    {
     "name": "stderr",
     "output_type": "stream",
     "text": [
      "C:\\Users\\Bio-Optics\\AppData\\Local\\Temp\\ipykernel_15240\\63538087.py:120: RuntimeWarning: Mean of empty slice\n",
      "  mean_g_auc  = np.nanmean(epoch_g_auc)\n"
     ]
    },
    {
     "name": "stdout",
     "output_type": "stream",
     "text": [
      "Epoch 16/100  |  D_loss=0.1378, D_AUC=0.9976  |  G_loss=1.2588, G_AUC=nan\n"
     ]
    },
    {
     "name": "stderr",
     "output_type": "stream",
     "text": [
      "C:\\Users\\Bio-Optics\\AppData\\Local\\Temp\\ipykernel_15240\\63538087.py:120: RuntimeWarning: Mean of empty slice\n",
      "  mean_g_auc  = np.nanmean(epoch_g_auc)\n"
     ]
    },
    {
     "name": "stdout",
     "output_type": "stream",
     "text": [
      "Epoch 17/100  |  D_loss=0.1551, D_AUC=0.9977  |  G_loss=1.2736, G_AUC=nan\n"
     ]
    },
    {
     "name": "stderr",
     "output_type": "stream",
     "text": [
      "C:\\Users\\Bio-Optics\\AppData\\Local\\Temp\\ipykernel_15240\\63538087.py:120: RuntimeWarning: Mean of empty slice\n",
      "  mean_g_auc  = np.nanmean(epoch_g_auc)\n"
     ]
    },
    {
     "name": "stdout",
     "output_type": "stream",
     "text": [
      "Epoch 18/100  |  D_loss=0.1840, D_AUC=0.9976  |  G_loss=1.3780, G_AUC=nan\n"
     ]
    },
    {
     "name": "stderr",
     "output_type": "stream",
     "text": [
      "C:\\Users\\Bio-Optics\\AppData\\Local\\Temp\\ipykernel_15240\\63538087.py:120: RuntimeWarning: Mean of empty slice\n",
      "  mean_g_auc  = np.nanmean(epoch_g_auc)\n"
     ]
    },
    {
     "name": "stdout",
     "output_type": "stream",
     "text": [
      "Epoch 19/100  |  D_loss=0.1550, D_AUC=0.9973  |  G_loss=1.1380, G_AUC=nan\n",
      "→ Halved LRs: lr_desc=1.00e-04, lr_gen=2.00e-04\n"
     ]
    },
    {
     "name": "stderr",
     "output_type": "stream",
     "text": [
      "C:\\Users\\Bio-Optics\\AppData\\Local\\Temp\\ipykernel_15240\\63538087.py:120: RuntimeWarning: Mean of empty slice\n",
      "  mean_g_auc  = np.nanmean(epoch_g_auc)\n"
     ]
    },
    {
     "name": "stdout",
     "output_type": "stream",
     "text": [
      "Epoch 20/100  |  D_loss=0.1866, D_AUC=0.9967  |  G_loss=0.5178, G_AUC=nan\n"
     ]
    },
    {
     "name": "stderr",
     "output_type": "stream",
     "text": [
      "C:\\Users\\Bio-Optics\\AppData\\Local\\Temp\\ipykernel_15240\\63538087.py:120: RuntimeWarning: Mean of empty slice\n",
      "  mean_g_auc  = np.nanmean(epoch_g_auc)\n"
     ]
    },
    {
     "name": "stdout",
     "output_type": "stream",
     "text": [
      "Epoch 21/100  |  D_loss=0.1099, D_AUC=0.9976  |  G_loss=0.3230, G_AUC=nan\n"
     ]
    },
    {
     "name": "stderr",
     "output_type": "stream",
     "text": [
      "C:\\Users\\Bio-Optics\\AppData\\Local\\Temp\\ipykernel_15240\\63538087.py:120: RuntimeWarning: Mean of empty slice\n",
      "  mean_g_auc  = np.nanmean(epoch_g_auc)\n"
     ]
    },
    {
     "name": "stdout",
     "output_type": "stream",
     "text": [
      "Epoch 22/100  |  D_loss=0.1081, D_AUC=0.9963  |  G_loss=0.1653, G_AUC=nan\n"
     ]
    },
    {
     "name": "stderr",
     "output_type": "stream",
     "text": [
      "C:\\Users\\Bio-Optics\\AppData\\Local\\Temp\\ipykernel_15240\\63538087.py:120: RuntimeWarning: Mean of empty slice\n",
      "  mean_g_auc  = np.nanmean(epoch_g_auc)\n"
     ]
    },
    {
     "name": "stdout",
     "output_type": "stream",
     "text": [
      "Epoch 23/100  |  D_loss=0.0687, D_AUC=0.9982  |  G_loss=0.1637, G_AUC=nan\n"
     ]
    },
    {
     "name": "stderr",
     "output_type": "stream",
     "text": [
      "C:\\Users\\Bio-Optics\\AppData\\Local\\Temp\\ipykernel_15240\\63538087.py:120: RuntimeWarning: Mean of empty slice\n",
      "  mean_g_auc  = np.nanmean(epoch_g_auc)\n"
     ]
    },
    {
     "name": "stdout",
     "output_type": "stream",
     "text": [
      "Epoch 24/100  |  D_loss=0.0509, D_AUC=0.9988  |  G_loss=0.0136, G_AUC=nan\n"
     ]
    },
    {
     "name": "stderr",
     "output_type": "stream",
     "text": [
      "C:\\Users\\Bio-Optics\\AppData\\Local\\Temp\\ipykernel_15240\\63538087.py:120: RuntimeWarning: Mean of empty slice\n",
      "  mean_g_auc  = np.nanmean(epoch_g_auc)\n"
     ]
    },
    {
     "name": "stdout",
     "output_type": "stream",
     "text": [
      "Epoch 25/100  |  D_loss=0.0523, D_AUC=0.9967  |  G_loss=0.0195, G_AUC=nan\n"
     ]
    },
    {
     "name": "stderr",
     "output_type": "stream",
     "text": [
      "C:\\Users\\Bio-Optics\\AppData\\Local\\Temp\\ipykernel_15240\\63538087.py:120: RuntimeWarning: Mean of empty slice\n",
      "  mean_g_auc  = np.nanmean(epoch_g_auc)\n"
     ]
    },
    {
     "name": "stdout",
     "output_type": "stream",
     "text": [
      "Epoch 26/100  |  D_loss=0.0442, D_AUC=0.9974  |  G_loss=0.0201, G_AUC=nan\n"
     ]
    },
    {
     "name": "stderr",
     "output_type": "stream",
     "text": [
      "C:\\Users\\Bio-Optics\\AppData\\Local\\Temp\\ipykernel_15240\\63538087.py:120: RuntimeWarning: Mean of empty slice\n",
      "  mean_g_auc  = np.nanmean(epoch_g_auc)\n"
     ]
    },
    {
     "name": "stdout",
     "output_type": "stream",
     "text": [
      "Epoch 27/100  |  D_loss=0.0613, D_AUC=0.9980  |  G_loss=0.0180, G_AUC=nan\n"
     ]
    },
    {
     "name": "stderr",
     "output_type": "stream",
     "text": [
      "C:\\Users\\Bio-Optics\\AppData\\Local\\Temp\\ipykernel_15240\\63538087.py:120: RuntimeWarning: Mean of empty slice\n",
      "  mean_g_auc  = np.nanmean(epoch_g_auc)\n"
     ]
    },
    {
     "name": "stdout",
     "output_type": "stream",
     "text": [
      "Epoch 28/100  |  D_loss=0.0503, D_AUC=0.9979  |  G_loss=0.0594, G_AUC=nan\n"
     ]
    },
    {
     "name": "stderr",
     "output_type": "stream",
     "text": [
      "C:\\Users\\Bio-Optics\\AppData\\Local\\Temp\\ipykernel_15240\\63538087.py:120: RuntimeWarning: Mean of empty slice\n",
      "  mean_g_auc  = np.nanmean(epoch_g_auc)\n"
     ]
    },
    {
     "name": "stdout",
     "output_type": "stream",
     "text": [
      "Epoch 29/100  |  D_loss=0.0456, D_AUC=0.9984  |  G_loss=0.0328, G_AUC=nan\n"
     ]
    },
    {
     "name": "stderr",
     "output_type": "stream",
     "text": [
      "C:\\Users\\Bio-Optics\\AppData\\Local\\Temp\\ipykernel_15240\\63538087.py:120: RuntimeWarning: Mean of empty slice\n",
      "  mean_g_auc  = np.nanmean(epoch_g_auc)\n"
     ]
    },
    {
     "name": "stdout",
     "output_type": "stream",
     "text": [
      "Epoch 30/100  |  D_loss=0.0407, D_AUC=0.9982  |  G_loss=0.1658, G_AUC=nan\n"
     ]
    },
    {
     "name": "stderr",
     "output_type": "stream",
     "text": [
      "C:\\Users\\Bio-Optics\\AppData\\Local\\Temp\\ipykernel_15240\\63538087.py:120: RuntimeWarning: Mean of empty slice\n",
      "  mean_g_auc  = np.nanmean(epoch_g_auc)\n"
     ]
    },
    {
     "name": "stdout",
     "output_type": "stream",
     "text": [
      "Epoch 31/100  |  D_loss=0.2824, D_AUC=0.9669  |  G_loss=0.8674, G_AUC=nan\n"
     ]
    },
    {
     "name": "stderr",
     "output_type": "stream",
     "text": [
      "C:\\Users\\Bio-Optics\\AppData\\Local\\Temp\\ipykernel_15240\\63538087.py:120: RuntimeWarning: Mean of empty slice\n",
      "  mean_g_auc  = np.nanmean(epoch_g_auc)\n"
     ]
    },
    {
     "name": "stdout",
     "output_type": "stream",
     "text": [
      "Epoch 32/100  |  D_loss=0.2902, D_AUC=0.9736  |  G_loss=1.0650, G_AUC=nan\n"
     ]
    },
    {
     "name": "stderr",
     "output_type": "stream",
     "text": [
      "C:\\Users\\Bio-Optics\\AppData\\Local\\Temp\\ipykernel_15240\\63538087.py:120: RuntimeWarning: Mean of empty slice\n",
      "  mean_g_auc  = np.nanmean(epoch_g_auc)\n"
     ]
    },
    {
     "name": "stdout",
     "output_type": "stream",
     "text": [
      "Epoch 33/100  |  D_loss=0.2194, D_AUC=0.9891  |  G_loss=0.8695, G_AUC=nan\n"
     ]
    },
    {
     "name": "stderr",
     "output_type": "stream",
     "text": [
      "C:\\Users\\Bio-Optics\\AppData\\Local\\Temp\\ipykernel_15240\\63538087.py:120: RuntimeWarning: Mean of empty slice\n",
      "  mean_g_auc  = np.nanmean(epoch_g_auc)\n"
     ]
    },
    {
     "name": "stdout",
     "output_type": "stream",
     "text": [
      "Epoch 34/100  |  D_loss=0.1945, D_AUC=0.9889  |  G_loss=0.8712, G_AUC=nan\n"
     ]
    },
    {
     "name": "stderr",
     "output_type": "stream",
     "text": [
      "C:\\Users\\Bio-Optics\\AppData\\Local\\Temp\\ipykernel_15240\\63538087.py:120: RuntimeWarning: Mean of empty slice\n",
      "  mean_g_auc  = np.nanmean(epoch_g_auc)\n"
     ]
    },
    {
     "name": "stdout",
     "output_type": "stream",
     "text": [
      "Epoch 35/100  |  D_loss=0.2379, D_AUC=0.9850  |  G_loss=0.8137, G_AUC=nan\n"
     ]
    },
    {
     "name": "stderr",
     "output_type": "stream",
     "text": [
      "C:\\Users\\Bio-Optics\\AppData\\Local\\Temp\\ipykernel_15240\\63538087.py:120: RuntimeWarning: Mean of empty slice\n",
      "  mean_g_auc  = np.nanmean(epoch_g_auc)\n"
     ]
    },
    {
     "name": "stdout",
     "output_type": "stream",
     "text": [
      "Epoch 36/100  |  D_loss=0.1932, D_AUC=0.9893  |  G_loss=0.6578, G_AUC=nan\n"
     ]
    },
    {
     "name": "stderr",
     "output_type": "stream",
     "text": [
      "C:\\Users\\Bio-Optics\\AppData\\Local\\Temp\\ipykernel_15240\\63538087.py:120: RuntimeWarning: Mean of empty slice\n",
      "  mean_g_auc  = np.nanmean(epoch_g_auc)\n"
     ]
    },
    {
     "name": "stdout",
     "output_type": "stream",
     "text": [
      "Epoch 37/100  |  D_loss=0.1346, D_AUC=0.9951  |  G_loss=0.5191, G_AUC=nan\n"
     ]
    },
    {
     "name": "stderr",
     "output_type": "stream",
     "text": [
      "C:\\Users\\Bio-Optics\\AppData\\Local\\Temp\\ipykernel_15240\\63538087.py:120: RuntimeWarning: Mean of empty slice\n",
      "  mean_g_auc  = np.nanmean(epoch_g_auc)\n"
     ]
    },
    {
     "name": "stdout",
     "output_type": "stream",
     "text": [
      "Epoch 38/100  |  D_loss=0.1069, D_AUC=0.9944  |  G_loss=0.4016, G_AUC=nan\n"
     ]
    },
    {
     "name": "stderr",
     "output_type": "stream",
     "text": [
      "C:\\Users\\Bio-Optics\\AppData\\Local\\Temp\\ipykernel_15240\\63538087.py:120: RuntimeWarning: Mean of empty slice\n",
      "  mean_g_auc  = np.nanmean(epoch_g_auc)\n"
     ]
    },
    {
     "name": "stdout",
     "output_type": "stream",
     "text": [
      "Epoch 39/100  |  D_loss=0.2130, D_AUC=0.9868  |  G_loss=0.9519, G_AUC=nan\n",
      "→ Halved LRs: lr_desc=5.00e-05, lr_gen=1.00e-04\n"
     ]
    },
    {
     "name": "stderr",
     "output_type": "stream",
     "text": [
      "C:\\Users\\Bio-Optics\\AppData\\Local\\Temp\\ipykernel_15240\\63538087.py:120: RuntimeWarning: Mean of empty slice\n",
      "  mean_g_auc  = np.nanmean(epoch_g_auc)\n"
     ]
    },
    {
     "name": "stdout",
     "output_type": "stream",
     "text": [
      "Epoch 40/100  |  D_loss=0.2728, D_AUC=0.9719  |  G_loss=0.6243, G_AUC=nan\n"
     ]
    },
    {
     "name": "stderr",
     "output_type": "stream",
     "text": [
      "C:\\Users\\Bio-Optics\\AppData\\Local\\Temp\\ipykernel_15240\\63538087.py:120: RuntimeWarning: Mean of empty slice\n",
      "  mean_g_auc  = np.nanmean(epoch_g_auc)\n"
     ]
    },
    {
     "name": "stdout",
     "output_type": "stream",
     "text": [
      "Epoch 41/100  |  D_loss=0.2595, D_AUC=0.9809  |  G_loss=0.7907, G_AUC=nan\n"
     ]
    },
    {
     "name": "stderr",
     "output_type": "stream",
     "text": [
      "C:\\Users\\Bio-Optics\\AppData\\Local\\Temp\\ipykernel_15240\\63538087.py:120: RuntimeWarning: Mean of empty slice\n",
      "  mean_g_auc  = np.nanmean(epoch_g_auc)\n"
     ]
    },
    {
     "name": "stdout",
     "output_type": "stream",
     "text": [
      "Epoch 42/100  |  D_loss=0.2004, D_AUC=0.9832  |  G_loss=0.6983, G_AUC=nan\n"
     ]
    },
    {
     "name": "stderr",
     "output_type": "stream",
     "text": [
      "C:\\Users\\Bio-Optics\\AppData\\Local\\Temp\\ipykernel_15240\\63538087.py:120: RuntimeWarning: Mean of empty slice\n",
      "  mean_g_auc  = np.nanmean(epoch_g_auc)\n"
     ]
    },
    {
     "name": "stdout",
     "output_type": "stream",
     "text": [
      "Epoch 43/100  |  D_loss=0.1800, D_AUC=0.9869  |  G_loss=0.8052, G_AUC=nan\n"
     ]
    },
    {
     "name": "stderr",
     "output_type": "stream",
     "text": [
      "C:\\Users\\Bio-Optics\\AppData\\Local\\Temp\\ipykernel_15240\\63538087.py:120: RuntimeWarning: Mean of empty slice\n",
      "  mean_g_auc  = np.nanmean(epoch_g_auc)\n"
     ]
    },
    {
     "name": "stdout",
     "output_type": "stream",
     "text": [
      "Epoch 44/100  |  D_loss=0.2444, D_AUC=0.9794  |  G_loss=0.5446, G_AUC=nan\n"
     ]
    },
    {
     "name": "stderr",
     "output_type": "stream",
     "text": [
      "C:\\Users\\Bio-Optics\\AppData\\Local\\Temp\\ipykernel_15240\\63538087.py:120: RuntimeWarning: Mean of empty slice\n",
      "  mean_g_auc  = np.nanmean(epoch_g_auc)\n"
     ]
    },
    {
     "name": "stdout",
     "output_type": "stream",
     "text": [
      "Epoch 45/100  |  D_loss=0.2177, D_AUC=0.9875  |  G_loss=0.4963, G_AUC=nan\n"
     ]
    },
    {
     "name": "stderr",
     "output_type": "stream",
     "text": [
      "C:\\Users\\Bio-Optics\\AppData\\Local\\Temp\\ipykernel_15240\\63538087.py:120: RuntimeWarning: Mean of empty slice\n",
      "  mean_g_auc  = np.nanmean(epoch_g_auc)\n"
     ]
    },
    {
     "name": "stdout",
     "output_type": "stream",
     "text": [
      "Epoch 46/100  |  D_loss=0.2199, D_AUC=0.9887  |  G_loss=0.6895, G_AUC=nan\n"
     ]
    },
    {
     "name": "stderr",
     "output_type": "stream",
     "text": [
      "C:\\Users\\Bio-Optics\\AppData\\Local\\Temp\\ipykernel_15240\\63538087.py:120: RuntimeWarning: Mean of empty slice\n",
      "  mean_g_auc  = np.nanmean(epoch_g_auc)\n"
     ]
    },
    {
     "name": "stdout",
     "output_type": "stream",
     "text": [
      "Epoch 47/100  |  D_loss=0.2567, D_AUC=0.9792  |  G_loss=0.7354, G_AUC=nan\n"
     ]
    },
    {
     "name": "stderr",
     "output_type": "stream",
     "text": [
      "C:\\Users\\Bio-Optics\\AppData\\Local\\Temp\\ipykernel_15240\\63538087.py:120: RuntimeWarning: Mean of empty slice\n",
      "  mean_g_auc  = np.nanmean(epoch_g_auc)\n"
     ]
    },
    {
     "name": "stdout",
     "output_type": "stream",
     "text": [
      "Epoch 48/100  |  D_loss=0.1647, D_AUC=0.9931  |  G_loss=0.6195, G_AUC=nan\n"
     ]
    },
    {
     "name": "stderr",
     "output_type": "stream",
     "text": [
      "C:\\Users\\Bio-Optics\\AppData\\Local\\Temp\\ipykernel_15240\\63538087.py:120: RuntimeWarning: Mean of empty slice\n",
      "  mean_g_auc  = np.nanmean(epoch_g_auc)\n"
     ]
    },
    {
     "name": "stdout",
     "output_type": "stream",
     "text": [
      "Epoch 49/100  |  D_loss=0.1287, D_AUC=0.9916  |  G_loss=0.4834, G_AUC=nan\n"
     ]
    },
    {
     "name": "stderr",
     "output_type": "stream",
     "text": [
      "C:\\Users\\Bio-Optics\\AppData\\Local\\Temp\\ipykernel_15240\\63538087.py:120: RuntimeWarning: Mean of empty slice\n",
      "  mean_g_auc  = np.nanmean(epoch_g_auc)\n"
     ]
    },
    {
     "name": "stdout",
     "output_type": "stream",
     "text": [
      "Epoch 50/100  |  D_loss=0.2627, D_AUC=0.9759  |  G_loss=0.7961, G_AUC=nan\n"
     ]
    },
    {
     "name": "stderr",
     "output_type": "stream",
     "text": [
      "C:\\Users\\Bio-Optics\\AppData\\Local\\Temp\\ipykernel_15240\\63538087.py:120: RuntimeWarning: Mean of empty slice\n",
      "  mean_g_auc  = np.nanmean(epoch_g_auc)\n"
     ]
    },
    {
     "name": "stdout",
     "output_type": "stream",
     "text": [
      "Epoch 51/100  |  D_loss=0.2758, D_AUC=0.9782  |  G_loss=0.8800, G_AUC=nan\n"
     ]
    },
    {
     "name": "stderr",
     "output_type": "stream",
     "text": [
      "C:\\Users\\Bio-Optics\\AppData\\Local\\Temp\\ipykernel_15240\\63538087.py:120: RuntimeWarning: Mean of empty slice\n",
      "  mean_g_auc  = np.nanmean(epoch_g_auc)\n"
     ]
    },
    {
     "name": "stdout",
     "output_type": "stream",
     "text": [
      "Epoch 52/100  |  D_loss=0.2120, D_AUC=0.9834  |  G_loss=0.6348, G_AUC=nan\n"
     ]
    },
    {
     "name": "stderr",
     "output_type": "stream",
     "text": [
      "C:\\Users\\Bio-Optics\\AppData\\Local\\Temp\\ipykernel_15240\\63538087.py:120: RuntimeWarning: Mean of empty slice\n",
      "  mean_g_auc  = np.nanmean(epoch_g_auc)\n"
     ]
    },
    {
     "name": "stdout",
     "output_type": "stream",
     "text": [
      "Epoch 53/100  |  D_loss=0.1410, D_AUC=0.9944  |  G_loss=0.3461, G_AUC=nan\n"
     ]
    },
    {
     "name": "stderr",
     "output_type": "stream",
     "text": [
      "C:\\Users\\Bio-Optics\\AppData\\Local\\Temp\\ipykernel_15240\\63538087.py:120: RuntimeWarning: Mean of empty slice\n",
      "  mean_g_auc  = np.nanmean(epoch_g_auc)\n"
     ]
    },
    {
     "name": "stdout",
     "output_type": "stream",
     "text": [
      "Epoch 54/100  |  D_loss=0.1338, D_AUC=0.9959  |  G_loss=0.4397, G_AUC=nan\n"
     ]
    },
    {
     "name": "stderr",
     "output_type": "stream",
     "text": [
      "C:\\Users\\Bio-Optics\\AppData\\Local\\Temp\\ipykernel_15240\\63538087.py:120: RuntimeWarning: Mean of empty slice\n",
      "  mean_g_auc  = np.nanmean(epoch_g_auc)\n"
     ]
    },
    {
     "name": "stdout",
     "output_type": "stream",
     "text": [
      "Epoch 55/100  |  D_loss=0.2390, D_AUC=0.9770  |  G_loss=0.6973, G_AUC=nan\n"
     ]
    },
    {
     "name": "stderr",
     "output_type": "stream",
     "text": [
      "C:\\Users\\Bio-Optics\\AppData\\Local\\Temp\\ipykernel_15240\\63538087.py:120: RuntimeWarning: Mean of empty slice\n",
      "  mean_g_auc  = np.nanmean(epoch_g_auc)\n"
     ]
    },
    {
     "name": "stdout",
     "output_type": "stream",
     "text": [
      "Epoch 56/100  |  D_loss=0.2696, D_AUC=0.9749  |  G_loss=0.9165, G_AUC=nan\n"
     ]
    },
    {
     "name": "stderr",
     "output_type": "stream",
     "text": [
      "C:\\Users\\Bio-Optics\\AppData\\Local\\Temp\\ipykernel_15240\\63538087.py:120: RuntimeWarning: Mean of empty slice\n",
      "  mean_g_auc  = np.nanmean(epoch_g_auc)\n"
     ]
    },
    {
     "name": "stdout",
     "output_type": "stream",
     "text": [
      "Epoch 57/100  |  D_loss=0.1923, D_AUC=0.9894  |  G_loss=0.5753, G_AUC=nan\n"
     ]
    },
    {
     "name": "stderr",
     "output_type": "stream",
     "text": [
      "C:\\Users\\Bio-Optics\\AppData\\Local\\Temp\\ipykernel_15240\\63538087.py:120: RuntimeWarning: Mean of empty slice\n",
      "  mean_g_auc  = np.nanmean(epoch_g_auc)\n"
     ]
    },
    {
     "name": "stdout",
     "output_type": "stream",
     "text": [
      "Epoch 58/100  |  D_loss=0.1976, D_AUC=0.9868  |  G_loss=0.5847, G_AUC=nan\n"
     ]
    },
    {
     "name": "stderr",
     "output_type": "stream",
     "text": [
      "C:\\Users\\Bio-Optics\\AppData\\Local\\Temp\\ipykernel_15240\\63538087.py:120: RuntimeWarning: Mean of empty slice\n",
      "  mean_g_auc  = np.nanmean(epoch_g_auc)\n"
     ]
    },
    {
     "name": "stdout",
     "output_type": "stream",
     "text": [
      "Epoch 59/100  |  D_loss=0.2321, D_AUC=0.9801  |  G_loss=0.8422, G_AUC=nan\n",
      "→ Halved LRs: lr_desc=2.50e-05, lr_gen=5.00e-05\n"
     ]
    },
    {
     "name": "stderr",
     "output_type": "stream",
     "text": [
      "C:\\Users\\Bio-Optics\\AppData\\Local\\Temp\\ipykernel_15240\\63538087.py:120: RuntimeWarning: Mean of empty slice\n",
      "  mean_g_auc  = np.nanmean(epoch_g_auc)\n"
     ]
    },
    {
     "name": "stdout",
     "output_type": "stream",
     "text": [
      "Epoch 60/100  |  D_loss=0.2886, D_AUC=0.9687  |  G_loss=0.9579, G_AUC=nan\n"
     ]
    },
    {
     "name": "stderr",
     "output_type": "stream",
     "text": [
      "C:\\Users\\Bio-Optics\\AppData\\Local\\Temp\\ipykernel_15240\\63538087.py:120: RuntimeWarning: Mean of empty slice\n",
      "  mean_g_auc  = np.nanmean(epoch_g_auc)\n"
     ]
    },
    {
     "name": "stdout",
     "output_type": "stream",
     "text": [
      "Epoch 61/100  |  D_loss=0.2671, D_AUC=0.9747  |  G_loss=0.6338, G_AUC=nan\n"
     ]
    },
    {
     "name": "stderr",
     "output_type": "stream",
     "text": [
      "C:\\Users\\Bio-Optics\\AppData\\Local\\Temp\\ipykernel_15240\\63538087.py:120: RuntimeWarning: Mean of empty slice\n",
      "  mean_g_auc  = np.nanmean(epoch_g_auc)\n"
     ]
    },
    {
     "name": "stdout",
     "output_type": "stream",
     "text": [
      "Epoch 62/100  |  D_loss=0.2070, D_AUC=0.9872  |  G_loss=0.4786, G_AUC=nan\n"
     ]
    },
    {
     "name": "stderr",
     "output_type": "stream",
     "text": [
      "C:\\Users\\Bio-Optics\\AppData\\Local\\Temp\\ipykernel_15240\\63538087.py:120: RuntimeWarning: Mean of empty slice\n",
      "  mean_g_auc  = np.nanmean(epoch_g_auc)\n"
     ]
    },
    {
     "name": "stdout",
     "output_type": "stream",
     "text": [
      "Epoch 63/100  |  D_loss=0.2277, D_AUC=0.9825  |  G_loss=0.6788, G_AUC=nan\n"
     ]
    },
    {
     "name": "stderr",
     "output_type": "stream",
     "text": [
      "C:\\Users\\Bio-Optics\\AppData\\Local\\Temp\\ipykernel_15240\\63538087.py:120: RuntimeWarning: Mean of empty slice\n",
      "  mean_g_auc  = np.nanmean(epoch_g_auc)\n"
     ]
    },
    {
     "name": "stdout",
     "output_type": "stream",
     "text": [
      "Epoch 64/100  |  D_loss=0.2311, D_AUC=0.9728  |  G_loss=0.4675, G_AUC=nan\n"
     ]
    },
    {
     "name": "stderr",
     "output_type": "stream",
     "text": [
      "C:\\Users\\Bio-Optics\\AppData\\Local\\Temp\\ipykernel_15240\\63538087.py:120: RuntimeWarning: Mean of empty slice\n",
      "  mean_g_auc  = np.nanmean(epoch_g_auc)\n"
     ]
    },
    {
     "name": "stdout",
     "output_type": "stream",
     "text": [
      "Epoch 65/100  |  D_loss=0.2571, D_AUC=0.9707  |  G_loss=0.5746, G_AUC=nan\n"
     ]
    },
    {
     "name": "stderr",
     "output_type": "stream",
     "text": [
      "C:\\Users\\Bio-Optics\\AppData\\Local\\Temp\\ipykernel_15240\\63538087.py:120: RuntimeWarning: Mean of empty slice\n",
      "  mean_g_auc  = np.nanmean(epoch_g_auc)\n"
     ]
    },
    {
     "name": "stdout",
     "output_type": "stream",
     "text": [
      "Epoch 66/100  |  D_loss=0.3191, D_AUC=0.9519  |  G_loss=0.7478, G_AUC=nan\n"
     ]
    },
    {
     "name": "stderr",
     "output_type": "stream",
     "text": [
      "C:\\Users\\Bio-Optics\\AppData\\Local\\Temp\\ipykernel_15240\\63538087.py:120: RuntimeWarning: Mean of empty slice\n",
      "  mean_g_auc  = np.nanmean(epoch_g_auc)\n"
     ]
    },
    {
     "name": "stdout",
     "output_type": "stream",
     "text": [
      "Epoch 67/100  |  D_loss=0.2919, D_AUC=0.9639  |  G_loss=0.7498, G_AUC=nan\n"
     ]
    },
    {
     "name": "stderr",
     "output_type": "stream",
     "text": [
      "C:\\Users\\Bio-Optics\\AppData\\Local\\Temp\\ipykernel_15240\\63538087.py:120: RuntimeWarning: Mean of empty slice\n",
      "  mean_g_auc  = np.nanmean(epoch_g_auc)\n"
     ]
    },
    {
     "name": "stdout",
     "output_type": "stream",
     "text": [
      "Epoch 68/100  |  D_loss=0.2628, D_AUC=0.9732  |  G_loss=0.7001, G_AUC=nan\n"
     ]
    },
    {
     "name": "stderr",
     "output_type": "stream",
     "text": [
      "C:\\Users\\Bio-Optics\\AppData\\Local\\Temp\\ipykernel_15240\\63538087.py:120: RuntimeWarning: Mean of empty slice\n",
      "  mean_g_auc  = np.nanmean(epoch_g_auc)\n"
     ]
    },
    {
     "name": "stdout",
     "output_type": "stream",
     "text": [
      "Epoch 69/100  |  D_loss=0.2926, D_AUC=0.9732  |  G_loss=1.0127, G_AUC=nan\n"
     ]
    },
    {
     "name": "stderr",
     "output_type": "stream",
     "text": [
      "C:\\Users\\Bio-Optics\\AppData\\Local\\Temp\\ipykernel_15240\\63538087.py:120: RuntimeWarning: Mean of empty slice\n",
      "  mean_g_auc  = np.nanmean(epoch_g_auc)\n"
     ]
    },
    {
     "name": "stdout",
     "output_type": "stream",
     "text": [
      "Epoch 70/100  |  D_loss=0.3335, D_AUC=0.9586  |  G_loss=0.9078, G_AUC=nan\n"
     ]
    },
    {
     "name": "stderr",
     "output_type": "stream",
     "text": [
      "C:\\Users\\Bio-Optics\\AppData\\Local\\Temp\\ipykernel_15240\\63538087.py:120: RuntimeWarning: Mean of empty slice\n",
      "  mean_g_auc  = np.nanmean(epoch_g_auc)\n"
     ]
    },
    {
     "name": "stdout",
     "output_type": "stream",
     "text": [
      "Epoch 71/100  |  D_loss=0.2941, D_AUC=0.9646  |  G_loss=0.8479, G_AUC=nan\n"
     ]
    },
    {
     "name": "stderr",
     "output_type": "stream",
     "text": [
      "C:\\Users\\Bio-Optics\\AppData\\Local\\Temp\\ipykernel_15240\\63538087.py:120: RuntimeWarning: Mean of empty slice\n",
      "  mean_g_auc  = np.nanmean(epoch_g_auc)\n"
     ]
    },
    {
     "name": "stdout",
     "output_type": "stream",
     "text": [
      "Epoch 72/100  |  D_loss=0.3057, D_AUC=0.9625  |  G_loss=0.9230, G_AUC=nan\n"
     ]
    },
    {
     "name": "stderr",
     "output_type": "stream",
     "text": [
      "C:\\Users\\Bio-Optics\\AppData\\Local\\Temp\\ipykernel_15240\\63538087.py:120: RuntimeWarning: Mean of empty slice\n",
      "  mean_g_auc  = np.nanmean(epoch_g_auc)\n"
     ]
    },
    {
     "name": "stdout",
     "output_type": "stream",
     "text": [
      "Epoch 73/100  |  D_loss=0.2729, D_AUC=0.9643  |  G_loss=0.6840, G_AUC=nan\n"
     ]
    },
    {
     "name": "stderr",
     "output_type": "stream",
     "text": [
      "C:\\Users\\Bio-Optics\\AppData\\Local\\Temp\\ipykernel_15240\\63538087.py:120: RuntimeWarning: Mean of empty slice\n",
      "  mean_g_auc  = np.nanmean(epoch_g_auc)\n"
     ]
    },
    {
     "name": "stdout",
     "output_type": "stream",
     "text": [
      "Epoch 74/100  |  D_loss=0.2579, D_AUC=0.9658  |  G_loss=0.4778, G_AUC=nan\n"
     ]
    },
    {
     "name": "stderr",
     "output_type": "stream",
     "text": [
      "C:\\Users\\Bio-Optics\\AppData\\Local\\Temp\\ipykernel_15240\\63538087.py:120: RuntimeWarning: Mean of empty slice\n",
      "  mean_g_auc  = np.nanmean(epoch_g_auc)\n"
     ]
    },
    {
     "name": "stdout",
     "output_type": "stream",
     "text": [
      "Epoch 75/100  |  D_loss=0.2382, D_AUC=0.9752  |  G_loss=0.5964, G_AUC=nan\n"
     ]
    },
    {
     "name": "stderr",
     "output_type": "stream",
     "text": [
      "C:\\Users\\Bio-Optics\\AppData\\Local\\Temp\\ipykernel_15240\\63538087.py:120: RuntimeWarning: Mean of empty slice\n",
      "  mean_g_auc  = np.nanmean(epoch_g_auc)\n"
     ]
    },
    {
     "name": "stdout",
     "output_type": "stream",
     "text": [
      "Epoch 76/100  |  D_loss=0.1983, D_AUC=0.9834  |  G_loss=0.5180, G_AUC=nan\n"
     ]
    },
    {
     "name": "stderr",
     "output_type": "stream",
     "text": [
      "C:\\Users\\Bio-Optics\\AppData\\Local\\Temp\\ipykernel_15240\\63538087.py:120: RuntimeWarning: Mean of empty slice\n",
      "  mean_g_auc  = np.nanmean(epoch_g_auc)\n"
     ]
    },
    {
     "name": "stdout",
     "output_type": "stream",
     "text": [
      "Epoch 77/100  |  D_loss=0.2522, D_AUC=0.9647  |  G_loss=0.5287, G_AUC=nan\n"
     ]
    },
    {
     "name": "stderr",
     "output_type": "stream",
     "text": [
      "C:\\Users\\Bio-Optics\\AppData\\Local\\Temp\\ipykernel_15240\\63538087.py:120: RuntimeWarning: Mean of empty slice\n",
      "  mean_g_auc  = np.nanmean(epoch_g_auc)\n"
     ]
    },
    {
     "name": "stdout",
     "output_type": "stream",
     "text": [
      "Epoch 78/100  |  D_loss=0.1776, D_AUC=0.9866  |  G_loss=0.4292, G_AUC=nan\n"
     ]
    },
    {
     "name": "stderr",
     "output_type": "stream",
     "text": [
      "C:\\Users\\Bio-Optics\\AppData\\Local\\Temp\\ipykernel_15240\\63538087.py:120: RuntimeWarning: Mean of empty slice\n",
      "  mean_g_auc  = np.nanmean(epoch_g_auc)\n"
     ]
    },
    {
     "name": "stdout",
     "output_type": "stream",
     "text": [
      "Epoch 79/100  |  D_loss=0.2044, D_AUC=0.9795  |  G_loss=0.5360, G_AUC=nan\n",
      "→ Halved LRs: lr_desc=1.25e-05, lr_gen=2.50e-05\n"
     ]
    },
    {
     "name": "stderr",
     "output_type": "stream",
     "text": [
      "C:\\Users\\Bio-Optics\\AppData\\Local\\Temp\\ipykernel_15240\\63538087.py:120: RuntimeWarning: Mean of empty slice\n",
      "  mean_g_auc  = np.nanmean(epoch_g_auc)\n"
     ]
    },
    {
     "name": "stdout",
     "output_type": "stream",
     "text": [
      "Epoch 80/100  |  D_loss=0.2680, D_AUC=0.9760  |  G_loss=0.7977, G_AUC=nan\n"
     ]
    },
    {
     "name": "stderr",
     "output_type": "stream",
     "text": [
      "C:\\Users\\Bio-Optics\\AppData\\Local\\Temp\\ipykernel_15240\\63538087.py:120: RuntimeWarning: Mean of empty slice\n",
      "  mean_g_auc  = np.nanmean(epoch_g_auc)\n"
     ]
    },
    {
     "name": "stdout",
     "output_type": "stream",
     "text": [
      "Epoch 81/100  |  D_loss=0.3108, D_AUC=0.9563  |  G_loss=0.6842, G_AUC=nan\n"
     ]
    },
    {
     "name": "stderr",
     "output_type": "stream",
     "text": [
      "C:\\Users\\Bio-Optics\\AppData\\Local\\Temp\\ipykernel_15240\\63538087.py:120: RuntimeWarning: Mean of empty slice\n",
      "  mean_g_auc  = np.nanmean(epoch_g_auc)\n"
     ]
    },
    {
     "name": "stdout",
     "output_type": "stream",
     "text": [
      "Epoch 82/100  |  D_loss=0.3816, D_AUC=0.9235  |  G_loss=0.8760, G_AUC=nan\n"
     ]
    },
    {
     "name": "stderr",
     "output_type": "stream",
     "text": [
      "C:\\Users\\Bio-Optics\\AppData\\Local\\Temp\\ipykernel_15240\\63538087.py:120: RuntimeWarning: Mean of empty slice\n",
      "  mean_g_auc  = np.nanmean(epoch_g_auc)\n"
     ]
    },
    {
     "name": "stdout",
     "output_type": "stream",
     "text": [
      "Epoch 83/100  |  D_loss=0.3911, D_AUC=0.9116  |  G_loss=1.1701, G_AUC=nan\n"
     ]
    },
    {
     "name": "stderr",
     "output_type": "stream",
     "text": [
      "C:\\Users\\Bio-Optics\\AppData\\Local\\Temp\\ipykernel_15240\\63538087.py:120: RuntimeWarning: Mean of empty slice\n",
      "  mean_g_auc  = np.nanmean(epoch_g_auc)\n"
     ]
    },
    {
     "name": "stdout",
     "output_type": "stream",
     "text": [
      "Epoch 84/100  |  D_loss=0.3742, D_AUC=0.9352  |  G_loss=1.0709, G_AUC=nan\n"
     ]
    },
    {
     "name": "stderr",
     "output_type": "stream",
     "text": [
      "C:\\Users\\Bio-Optics\\AppData\\Local\\Temp\\ipykernel_15240\\63538087.py:120: RuntimeWarning: Mean of empty slice\n",
      "  mean_g_auc  = np.nanmean(epoch_g_auc)\n"
     ]
    },
    {
     "name": "stdout",
     "output_type": "stream",
     "text": [
      "Epoch 85/100  |  D_loss=0.3608, D_AUC=0.9418  |  G_loss=0.9121, G_AUC=nan\n"
     ]
    },
    {
     "name": "stderr",
     "output_type": "stream",
     "text": [
      "C:\\Users\\Bio-Optics\\AppData\\Local\\Temp\\ipykernel_15240\\63538087.py:120: RuntimeWarning: Mean of empty slice\n",
      "  mean_g_auc  = np.nanmean(epoch_g_auc)\n"
     ]
    },
    {
     "name": "stdout",
     "output_type": "stream",
     "text": [
      "Epoch 86/100  |  D_loss=0.3302, D_AUC=0.9465  |  G_loss=0.9548, G_AUC=nan\n"
     ]
    },
    {
     "name": "stderr",
     "output_type": "stream",
     "text": [
      "C:\\Users\\Bio-Optics\\AppData\\Local\\Temp\\ipykernel_15240\\63538087.py:120: RuntimeWarning: Mean of empty slice\n",
      "  mean_g_auc  = np.nanmean(epoch_g_auc)\n"
     ]
    },
    {
     "name": "stdout",
     "output_type": "stream",
     "text": [
      "Epoch 87/100  |  D_loss=0.3301, D_AUC=0.9519  |  G_loss=0.8040, G_AUC=nan\n"
     ]
    },
    {
     "name": "stderr",
     "output_type": "stream",
     "text": [
      "C:\\Users\\Bio-Optics\\AppData\\Local\\Temp\\ipykernel_15240\\63538087.py:120: RuntimeWarning: Mean of empty slice\n",
      "  mean_g_auc  = np.nanmean(epoch_g_auc)\n"
     ]
    },
    {
     "name": "stdout",
     "output_type": "stream",
     "text": [
      "Epoch 88/100  |  D_loss=0.3210, D_AUC=0.9604  |  G_loss=0.9973, G_AUC=nan\n"
     ]
    },
    {
     "name": "stderr",
     "output_type": "stream",
     "text": [
      "C:\\Users\\Bio-Optics\\AppData\\Local\\Temp\\ipykernel_15240\\63538087.py:120: RuntimeWarning: Mean of empty slice\n",
      "  mean_g_auc  = np.nanmean(epoch_g_auc)\n"
     ]
    },
    {
     "name": "stdout",
     "output_type": "stream",
     "text": [
      "Epoch 89/100  |  D_loss=0.3648, D_AUC=0.9290  |  G_loss=0.8916, G_AUC=nan\n"
     ]
    },
    {
     "name": "stderr",
     "output_type": "stream",
     "text": [
      "C:\\Users\\Bio-Optics\\AppData\\Local\\Temp\\ipykernel_15240\\63538087.py:120: RuntimeWarning: Mean of empty slice\n",
      "  mean_g_auc  = np.nanmean(epoch_g_auc)\n"
     ]
    },
    {
     "name": "stdout",
     "output_type": "stream",
     "text": [
      "Epoch 90/100  |  D_loss=0.3607, D_AUC=0.9124  |  G_loss=1.1152, G_AUC=nan\n"
     ]
    },
    {
     "name": "stderr",
     "output_type": "stream",
     "text": [
      "C:\\Users\\Bio-Optics\\AppData\\Local\\Temp\\ipykernel_15240\\63538087.py:120: RuntimeWarning: Mean of empty slice\n",
      "  mean_g_auc  = np.nanmean(epoch_g_auc)\n"
     ]
    },
    {
     "name": "stdout",
     "output_type": "stream",
     "text": [
      "Epoch 91/100  |  D_loss=0.3348, D_AUC=0.9365  |  G_loss=1.1003, G_AUC=nan\n"
     ]
    },
    {
     "name": "stderr",
     "output_type": "stream",
     "text": [
      "C:\\Users\\Bio-Optics\\AppData\\Local\\Temp\\ipykernel_15240\\63538087.py:120: RuntimeWarning: Mean of empty slice\n",
      "  mean_g_auc  = np.nanmean(epoch_g_auc)\n"
     ]
    },
    {
     "name": "stdout",
     "output_type": "stream",
     "text": [
      "Epoch 92/100  |  D_loss=0.2967, D_AUC=0.9613  |  G_loss=1.0770, G_AUC=nan\n"
     ]
    },
    {
     "name": "stderr",
     "output_type": "stream",
     "text": [
      "C:\\Users\\Bio-Optics\\AppData\\Local\\Temp\\ipykernel_15240\\63538087.py:120: RuntimeWarning: Mean of empty slice\n",
      "  mean_g_auc  = np.nanmean(epoch_g_auc)\n"
     ]
    },
    {
     "name": "stdout",
     "output_type": "stream",
     "text": [
      "Epoch 93/100  |  D_loss=0.3450, D_AUC=0.9276  |  G_loss=1.0044, G_AUC=nan\n"
     ]
    },
    {
     "name": "stderr",
     "output_type": "stream",
     "text": [
      "C:\\Users\\Bio-Optics\\AppData\\Local\\Temp\\ipykernel_15240\\63538087.py:120: RuntimeWarning: Mean of empty slice\n",
      "  mean_g_auc  = np.nanmean(epoch_g_auc)\n"
     ]
    },
    {
     "name": "stdout",
     "output_type": "stream",
     "text": [
      "Epoch 94/100  |  D_loss=0.3591, D_AUC=0.9246  |  G_loss=1.0430, G_AUC=nan\n"
     ]
    },
    {
     "name": "stderr",
     "output_type": "stream",
     "text": [
      "C:\\Users\\Bio-Optics\\AppData\\Local\\Temp\\ipykernel_15240\\63538087.py:120: RuntimeWarning: Mean of empty slice\n",
      "  mean_g_auc  = np.nanmean(epoch_g_auc)\n"
     ]
    },
    {
     "name": "stdout",
     "output_type": "stream",
     "text": [
      "Epoch 95/100  |  D_loss=0.3367, D_AUC=0.9391  |  G_loss=1.1748, G_AUC=nan\n"
     ]
    },
    {
     "name": "stderr",
     "output_type": "stream",
     "text": [
      "C:\\Users\\Bio-Optics\\AppData\\Local\\Temp\\ipykernel_15240\\63538087.py:120: RuntimeWarning: Mean of empty slice\n",
      "  mean_g_auc  = np.nanmean(epoch_g_auc)\n"
     ]
    },
    {
     "name": "stdout",
     "output_type": "stream",
     "text": [
      "Epoch 96/100  |  D_loss=0.3389, D_AUC=0.9414  |  G_loss=1.0459, G_AUC=nan\n"
     ]
    },
    {
     "name": "stderr",
     "output_type": "stream",
     "text": [
      "C:\\Users\\Bio-Optics\\AppData\\Local\\Temp\\ipykernel_15240\\63538087.py:120: RuntimeWarning: Mean of empty slice\n",
      "  mean_g_auc  = np.nanmean(epoch_g_auc)\n"
     ]
    },
    {
     "name": "stdout",
     "output_type": "stream",
     "text": [
      "Epoch 97/100  |  D_loss=0.3512, D_AUC=0.9406  |  G_loss=0.9835, G_AUC=nan\n"
     ]
    },
    {
     "name": "stderr",
     "output_type": "stream",
     "text": [
      "C:\\Users\\Bio-Optics\\AppData\\Local\\Temp\\ipykernel_15240\\63538087.py:120: RuntimeWarning: Mean of empty slice\n",
      "  mean_g_auc  = np.nanmean(epoch_g_auc)\n"
     ]
    },
    {
     "name": "stdout",
     "output_type": "stream",
     "text": [
      "Epoch 98/100  |  D_loss=0.4089, D_AUC=0.8737  |  G_loss=0.8212, G_AUC=nan\n"
     ]
    },
    {
     "name": "stderr",
     "output_type": "stream",
     "text": [
      "C:\\Users\\Bio-Optics\\AppData\\Local\\Temp\\ipykernel_15240\\63538087.py:120: RuntimeWarning: Mean of empty slice\n",
      "  mean_g_auc  = np.nanmean(epoch_g_auc)\n"
     ]
    },
    {
     "name": "stdout",
     "output_type": "stream",
     "text": [
      "Epoch 99/100  |  D_loss=0.3887, D_AUC=0.9177  |  G_loss=0.9224, G_AUC=nan\n",
      "→ Halved LRs: lr_desc=6.25e-06, lr_gen=1.25e-05\n"
     ]
    },
    {
     "name": "stderr",
     "output_type": "stream",
     "text": [
      "C:\\Users\\Bio-Optics\\AppData\\Local\\Temp\\ipykernel_15240\\63538087.py:120: RuntimeWarning: Mean of empty slice\n",
      "  mean_g_auc  = np.nanmean(epoch_g_auc)\n"
     ]
    },
    {
     "name": "stdout",
     "output_type": "stream",
     "text": [
      "Epoch 100/100  |  D_loss=0.3548, D_AUC=0.9429  |  G_loss=1.1615, G_AUC=nan\n",
      "\n",
      "✅ Arrhythmia‐GAN training complete. Weights saved to:\n",
      "  • arrhythmia_gan_outputs_tuned\\generator_arrhythmia_final.weights.h5\n",
      "  • arrhythmia_gan_outputs_tuned\\discriminator_arrhythmia_final.weights.h5\n"
     ]
    },
    {
     "data": {
      "text/plain": [
       "<Figure size 1600x400 with 0 Axes>"
      ]
     },
     "metadata": {},
     "output_type": "display_data"
    },
    {
     "data": {
      "text/plain": [
       "<Figure size 1600x400 with 0 Axes>"
      ]
     },
     "metadata": {},
     "output_type": "display_data"
    },
    {
     "data": {
      "text/plain": [
       "<Figure size 1600x400 with 0 Axes>"
      ]
     },
     "metadata": {},
     "output_type": "display_data"
    },
    {
     "data": {
      "text/plain": [
       "<Figure size 1600x400 with 0 Axes>"
      ]
     },
     "metadata": {},
     "output_type": "display_data"
    },
    {
     "data": {
      "text/plain": [
       "<Figure size 1600x400 with 0 Axes>"
      ]
     },
     "metadata": {},
     "output_type": "display_data"
    },
    {
     "data": {
      "text/plain": [
       "<Figure size 1600x400 with 0 Axes>"
      ]
     },
     "metadata": {},
     "output_type": "display_data"
    },
    {
     "data": {
      "text/plain": [
       "<Figure size 1600x400 with 0 Axes>"
      ]
     },
     "metadata": {},
     "output_type": "display_data"
    },
    {
     "data": {
      "text/plain": [
       "<Figure size 1600x400 with 0 Axes>"
      ]
     },
     "metadata": {},
     "output_type": "display_data"
    },
    {
     "data": {
      "text/plain": [
       "<Figure size 1600x400 with 0 Axes>"
      ]
     },
     "metadata": {},
     "output_type": "display_data"
    },
    {
     "data": {
      "text/plain": [
       "<Figure size 1600x400 with 0 Axes>"
      ]
     },
     "metadata": {},
     "output_type": "display_data"
    },
    {
     "data": {
      "text/plain": [
       "<Figure size 800x400 with 0 Axes>"
      ]
     },
     "metadata": {},
     "output_type": "display_data"
    },
    {
     "data": {
      "text/plain": [
       "<Figure size 800x400 with 0 Axes>"
      ]
     },
     "metadata": {},
     "output_type": "display_data"
    }
   ],
   "source": [
    "# 8.1) Define hyperparameters\n",
    "epochs_arr       = 100\n",
    "batch_size_arr   = 16\n",
    "latent_dim       = 12\n",
    "\n",
    "# Lower D’s learning rate to slow it down\n",
    "lr_desc          = 1e-4   # ↓ from 2e−4 to 1e−4 (or even 5e−5)\n",
    "lr_gen           = 4e-4   # keep as before, or optionally ↑ to 5e−4\n",
    "\n",
    "checkpoint_intvl = 10\n",
    "save_directory   = \"arrhythmia_gan_outputs_tuned\"\n",
    "\n",
    "\n",
    "# 8.2) Kick off training\n",
    "trained_gen_arr, trained_desc_arr, history_arr = train_gan_on_arrhythmia(\n",
    "    gen=gen_arr,\n",
    "    desc=disc_arr,\n",
    "    ECGs_arr=ECGs_arr_train,\n",
    "    epochs=epochs_arr,\n",
    "    batch_size=batch_size_arr,\n",
    "    latent_dim=latent_dim,\n",
    "    lr_desc=2e-4,\n",
    "    lr_gen=4e-4,\n",
    "    checkpoint_interval=checkpoint_intvl,\n",
    "    save_dir=save_directory\n",
    ")\n"
   ]
  },
  {
   "cell_type": "code",
   "execution_count": 12,
   "id": "cd28a8a8",
   "metadata": {},
   "outputs": [
    {
     "name": "stdout",
     "output_type": "stream",
     "text": [
      "✅ Loaded arrhythmia‐GAN generator weights for evaluation.\n",
      "\u001b[1m1/7\u001b[0m \u001b[32m━━\u001b[0m\u001b[37m━━━━━━━━━━━━━━━━━━\u001b[0m \u001b[1m0s\u001b[0m 95ms/step"
     ]
    },
    {
     "name": "stderr",
     "output_type": "stream",
     "text": [
      "c:\\Users\\Bio-Optics\\anaconda3\\envs\\test\\Lib\\site-packages\\keras\\src\\layers\\core\\dense.py:87: UserWarning: Do not pass an `input_shape`/`input_dim` argument to a layer. When using Sequential models, prefer using an `Input(shape)` object as the first layer in the model instead.\n",
      "  super().__init__(activity_regularizer=activity_regularizer, **kwargs)\n"
     ]
    },
    {
     "name": "stdout",
     "output_type": "stream",
     "text": [
      "\u001b[1m7/7\u001b[0m \u001b[32m━━━━━━━━━━━━━━━━━━━━\u001b[0m\u001b[37m\u001b[0m \u001b[1m0s\u001b[0m 22ms/step\n",
      "Fake arrhythmia eval shape: (200, 1000, 12)\n"
     ]
    }
   ],
   "source": [
    "# 9.1) Rebuild & load generator weights\n",
    "gen_eval = build_generator(latent_dim=latent_dim)\n",
    "gen_eval.load_weights(os.path.join(save_directory, \"generator_arrhythmia_final.weights.h5\"))\n",
    "print(\"✅ Loaded arrhythmia‐GAN generator weights for evaluation.\")\n",
    "\n",
    "# 9.2) Generate new fake arrhythmic ECGs\n",
    "n_fake_eval = 200\n",
    "z_eval = np.random.randn(n_fake_eval, 1, latent_dim).astype(\"float32\")\n",
    "fake_arr_evaluate = gen_eval.predict(z_eval, verbose=1)  # shape = (200, 1000,12)\n",
    "print(\"Fake arrhythmia eval shape:\", fake_arr_evaluate.shape)\n"
   ]
  },
  {
   "cell_type": "code",
   "execution_count": 13,
   "id": "42bd4a24",
   "metadata": {},
   "outputs": [
    {
     "name": "stdout",
     "output_type": "stream",
     "text": [
      "Real AFIB (test) RR-SD → mean = 0.095s,  std = 0.090s\n",
      "Fake Arr Eval        RR-SD → mean = 0.368s,  std = 0.035s\n"
     ]
    },
    {
     "data": {
      "image/png": "[encoded data removed]",
      "text/plain": [
       "<Figure size 800x400 with 1 Axes>"
      ]
     },
     "metadata": {},
     "output_type": "display_data"
    }
   ],
   "source": [
    "import numpy as np\n",
    "import matplotlib.pyplot as plt\n",
    "from scipy.signal import find_peaks\n",
    "\n",
    "# ─── Define sampling frequency ───────────────────────────────────────────\n",
    "fs = 100  # 100 Hz (1000 samples = 10 seconds)\n",
    "\n",
    "# ─── 10.1.1) Compute RR‐SD on real test AFIB subset ────────────────────────\n",
    "rr_sd_real_test = []\n",
    "for i in range(ECGs_arr_test.shape[0]):\n",
    "    lead1 = ECGs_arr_test[i][:, 0]  # Lead I\n",
    "    # find_peaks needs distance in samples, so fs * 0.4 = 0.4 seconds = 40 samples\n",
    "    peaks, _ = find_peaks(lead1, distance=fs * 0.4, height=0.05)\n",
    "    if len(peaks) < 2:\n",
    "        rr_sd_real_test.append(0.0)\n",
    "    else:\n",
    "        rr_intervals = np.diff(peaks) / fs\n",
    "        rr_sd_real_test.append(np.std(rr_intervals))\n",
    "\n",
    "rr_sd_real_test = np.array(rr_sd_real_test)\n",
    "\n",
    "# ─── 10.1.2) Compute RR‐SD on fake arrhythmias (generated above) ─────────\n",
    "rr_sd_fake_eval = []\n",
    "for i in range(fake_arr_evaluate.shape[0]):\n",
    "    lead1 = fake_arr_evaluate[i][:, 0]\n",
    "    peaks, _ = find_peaks(lead1, distance=fs * 0.4, height=0.05)\n",
    "    if len(peaks) < 2:\n",
    "        rr_sd_fake_eval.append(0.0)\n",
    "    else:\n",
    "        rr_intervals = np.diff(peaks) / fs\n",
    "        rr_sd_fake_eval.append(np.std(rr_intervals))\n",
    "\n",
    "rr_sd_fake_eval = np.array(rr_sd_fake_eval)\n",
    "\n",
    "# ─── 10.1.3) Print summary stats ──────────────────────────────────────────\n",
    "print(f\"Real AFIB (test) RR-SD → mean = {rr_sd_real_test.mean():.3f}s,  std = {rr_sd_real_test.std():.3f}s\")\n",
    "print(f\"Fake Arr Eval        RR-SD → mean = {rr_sd_fake_eval.mean():.3f}s,  std = {rr_sd_fake_eval.std():.3f}s\")\n",
    "\n",
    "# ─── 10.1.4) Plot histograms side by side ─────────────────────────────────\n",
    "bins = np.linspace(0, 1.0, 30)\n",
    "\n",
    "plt.figure(figsize=(8, 4))\n",
    "plt.hist(rr_sd_real_test, bins=bins, density=True, alpha=0.6, label=\"Real AFIB (test)\")\n",
    "plt.hist(rr_sd_fake_eval, bins=bins, density=True, alpha=0.6, label=\"Fake Arrhythmia (eval)\")\n",
    "plt.title(\"RR-SD Distribution: Real AFIB (test) vs. Fake Arrhythmia\")\n",
    "plt.xlabel(\"RR-SD (seconds)\")\n",
    "plt.ylabel(\"Density\")\n",
    "plt.legend()\n",
    "plt.grid(True)\n",
    "plt.show()\n"
   ]
  },
  {
   "cell_type": "code",
   "execution_count": 14,
   "id": "81c986ba",
   "metadata": {},
   "outputs": [
    {
     "name": "stdout",
     "output_type": "stream",
     "text": [
      "KL Divergence (Real AFIB || Fake Arrhythmia) = 21.1811\n"
     ]
    }
   ],
   "source": [
    "from scipy.stats import entropy\n",
    "\n",
    "# 10.2.1) Build normalized histograms over same bins\n",
    "counts_real, _ = np.histogram(rr_sd_real_test, bins=bins, density=False)\n",
    "counts_fake, _ = np.histogram(rr_sd_fake_eval, bins=bins, density=False)\n",
    "\n",
    "# Add a tiny constant to avoid zero counts before normalizing\n",
    "counts_real = counts_real.astype(np.float32) + 1e-8\n",
    "counts_fake = counts_fake.astype(np.float32) + 1e-8\n",
    "\n",
    "# Normalize to get probability distributions\n",
    "p = counts_real / np.sum(counts_real)\n",
    "q = counts_fake / np.sum(counts_fake)\n",
    "\n",
    "# 10.2.2) Compute KL divergence\n",
    "kl_divergence = entropy(p, q)\n",
    "print(f\"KL Divergence (Real AFIB || Fake Arrhythmia) = {kl_divergence:.4f}\")\n"
   ]
  },
  {
   "cell_type": "code",
   "execution_count": 16,
   "id": "b76167be",
   "metadata": {},
   "outputs": [
    {
     "data": {
      "image/png": "[encoded data removed]",
      "text/plain": [
       "<Figure size 1000x800 with 8 Axes>"
      ]
     },
     "metadata": {},
     "output_type": "display_data"
    }
   ],
   "source": [
    "# 10.3.1) Reuse helper to extract ±0.5 s beat windows\n",
    "def extract_single_beats(ecg_set, n_examples=4, fs=100, half_window=50, threshold=0.05):\n",
    "    windows = []\n",
    "    count = 0\n",
    "    while len(windows) < n_examples and count < ecg_set.shape[0]:\n",
    "        sig = ecg_set[count, :, 0]  # Lead I\n",
    "        peaks, _ = find_peaks(sig, distance=fs*0.4, height=threshold)\n",
    "        if len(peaks) == 0:\n",
    "            count += 1\n",
    "            continue\n",
    "        for rpos in peaks:\n",
    "            if rpos - half_window >= 0 and rpos + half_window < sig.shape[0]:\n",
    "                win = sig[rpos - half_window : rpos + half_window]\n",
    "                windows.append((count, rpos, win))\n",
    "                break\n",
    "        count += 1\n",
    "    return windows\n",
    "\n",
    "# 10.3.2) Extract 4 real AFIB windows (from test set)\n",
    "real_test_windows = extract_single_beats(ECGs_arr_test, n_examples=4, fs=fs, half_window=50, threshold=0.05)\n",
    "\n",
    "# 10.3.3) Extract 4 fake arrhythmia windows\n",
    "fake_eval_windows = extract_single_beats(fake_arr_evaluate, n_examples=4, fs=fs, half_window=50, threshold=0.0)\n",
    "\n",
    "# 10.3.4) Plot side by side\n",
    "time_axis = np.linspace(-0.5, 0.5, 100)\n",
    "\n",
    "plt.figure(figsize=(10, 8))\n",
    "for i in range(4):\n",
    "    ridx, rpos, rwin = real_test_windows[i]\n",
    "    fidx, fpos, fwin = fake_eval_windows[i]\n",
    "\n",
    "    # Real AFIB beat\n",
    "    plt.subplot(4, 2, 2*i + 1)\n",
    "    plt.plot(time_axis, rwin, color=\"black\", linewidth=1)\n",
    "    plt.axvline(0, color=\"red\", linestyle=\"--\", alpha=0.6)\n",
    "    plt.title(f\"Real AFIB (test) #{ridx}, R-idx={rpos}\")\n",
    "    plt.xlabel(\"Time (s)\")\n",
    "    plt.ylabel(\"mV\")\n",
    "    plt.grid(True)\n",
    "\n",
    "    # Fake Arrhythmia beat\n",
    "    plt.subplot(4, 2, 2*i + 2)\n",
    "    plt.plot(time_axis, fwin, color=\"crimson\", linewidth=1)\n",
    "    plt.axvline(0, color=\"blue\", linestyle=\"--\", alpha=0.6)\n",
    "    plt.title(f\"Fake Arrhythmia (eval) #{fidx}, R-idx={fpos}\")\n",
    "    plt.xlabel(\"Time (s)\")\n",
    "    plt.ylabel(\"mV\")\n",
    "    plt.grid(True)\n",
    "\n",
    "plt.tight_layout()\n",
    "plt.show()\n"
   ]
  },
  {
   "cell_type": "code",
   "execution_count": 17,
   "id": "88bb7475",
   "metadata": {},
   "outputs": [
    {
     "name": "stdout",
     "output_type": "stream",
     "text": [
      "✅ Loaded arrhythmia‐GAN discriminator weights for evaluation.\n",
      "\u001b[1m7/7\u001b[0m \u001b[32m━━━━━━━━━━━━━━━━━━━━\u001b[0m\u001b[37m\u001b[0m \u001b[1m0s\u001b[0m 9ms/step \n",
      "\u001b[1m13/13\u001b[0m \u001b[32m━━━━━━━━━━━━━━━━━━━━\u001b[0m\u001b[37m\u001b[0m \u001b[1m0s\u001b[0m 21ms/step\n",
      "Held-out Discriminator AUROC: 0.9899\n",
      "Held-out Discriminator Accuracy (p=0.5): 0.948\n"
     ]
    }
   ],
   "source": [
    "from sklearn.metrics import roc_auc_score\n",
    "\n",
    "# 11.1) Re‐build discriminator & load its final weights\n",
    "disc_eval = build_discriminator(input_shape=(1000, 12), depth=2, use_residual=True)\n",
    "disc_eval.load_weights(os.path.join(save_directory, \"discriminator_arrhythmia_final.weights.h5\"))\n",
    "print(\"✅ Loaded arrhythmia‐GAN discriminator weights for evaluation.\")\n",
    "\n",
    "# 11.2) Sample 200 real AFIB from the test set\n",
    "N_eval = 200\n",
    "real_idx_eval = np.random.choice(ECGs_arr_test.shape[0], N_eval, replace=False)\n",
    "real_eval     = ECGs_arr_test[real_idx_eval]  # (200,1000,12)\n",
    "\n",
    "# 11.3) Generate 200 fake arrhythmia ECGs\n",
    "z_eval2      = np.random.randn(N_eval, 1, latent_dim).astype(\"float32\")\n",
    "fake_eval2   = gen_eval.predict(z_eval2, verbose=1)  # (200,1000,12)\n",
    "\n",
    "# 11.4) Build combined dataset + labels\n",
    "X_score = np.vstack([real_eval, fake_eval2])           # shape = (400,1000,12)\n",
    "y_score = np.concatenate([np.ones((N_eval,1)),         # real=1\n",
    "                          np.zeros((N_eval,1))])       # fake=0\n",
    "\n",
    "# 11.5) Get D’s predictions\n",
    "preds_score = disc_eval.predict(X_score, batch_size=32, verbose=1).flatten()\n",
    "\n",
    "# 11.6) Compute AUROC + accuracy\n",
    "auroc_score = roc_auc_score(y_score.flatten(), preds_score)\n",
    "acc_score   = np.mean((preds_score >= 0.5).astype(int) == y_score.flatten())\n",
    "\n",
    "print(f\"Held-out Discriminator AUROC: {auroc_score:.4f}\")\n",
    "print(f\"Held-out Discriminator Accuracy (p=0.5): {acc_score:.3f}\")\n"
   ]
  }
 ],
 "metadata": {
  "kernelspec": {
   "display_name": "test",
   "language": "python",
   "name": "python3"
  },
  "language_info": {
   "codemirror_mode": {
    "name": "ipython",
    "version": 3
   },
   "file_extension": ".py",
   "mimetype": "text/x-python",
   "name": "python",
   "nbconvert_exporter": "python",
   "pygments_lexer": "ipython3",
   "version": "3.12.9"
  }
 },
 "nbformat": 4,
 "nbformat_minor": 5
}
